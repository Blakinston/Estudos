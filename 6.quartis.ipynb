{
 "cells": [
  {
   "cell_type": "code",
   "execution_count": 135,
   "metadata": {},
   "outputs": [
    {
     "data": {
      "text/plain": [
       "array([150, 151, 152, 153, 154, 155])"
      ]
     },
     "execution_count": 135,
     "metadata": {},
     "output_type": "execute_result"
    }
   ],
   "source": [
    "import pandas as pd\n",
    "import numpy as np\n",
    "\n",
    "dados= np.arange(150,156,1)\n",
    "dados"
   ]
  },
  {
   "cell_type": "code",
   "execution_count": 136,
   "metadata": {},
   "outputs": [
    {
     "data": {
      "text/plain": [
       "array([151.25, 152.5 , 153.75])"
      ]
     },
     "execution_count": 136,
     "metadata": {},
     "output_type": "execute_result"
    }
   ],
   "source": [
    "# numpy considera os intervalos acumulados e nao somas \n",
    "np.quantile(dados,[.25,.50,.75])"
   ]
  },
  {
   "cell_type": "code",
   "execution_count": 137,
   "metadata": {},
   "outputs": [
    {
     "data": {
      "text/plain": [
       "152.5"
      ]
     },
     "execution_count": 137,
     "metadata": {},
     "output_type": "execute_result"
    }
   ],
   "source": [
    "from scipy import stats\n",
    "\n",
    "stats.scoreatpercentile(dados,50)"
   ]
  },
  {
   "cell_type": "code",
   "execution_count": 138,
   "metadata": {},
   "outputs": [
    {
     "data": {
      "text/html": [
       "<div>\n",
       "<style scoped>\n",
       "    .dataframe tbody tr th:only-of-type {\n",
       "        vertical-align: middle;\n",
       "    }\n",
       "\n",
       "    .dataframe tbody tr th {\n",
       "        vertical-align: top;\n",
       "    }\n",
       "\n",
       "    .dataframe thead th {\n",
       "        text-align: right;\n",
       "    }\n",
       "</style>\n",
       "<table border=\"1\" class=\"dataframe\">\n",
       "  <thead>\n",
       "    <tr style=\"text-align: right;\">\n",
       "      <th></th>\n",
       "      <th>0</th>\n",
       "    </tr>\n",
       "  </thead>\n",
       "  <tbody>\n",
       "    <tr>\n",
       "      <th>0.25</th>\n",
       "      <td>151.25</td>\n",
       "    </tr>\n",
       "    <tr>\n",
       "      <th>0.50</th>\n",
       "      <td>152.50</td>\n",
       "    </tr>\n",
       "  </tbody>\n",
       "</table>\n",
       "</div>"
      ],
      "text/plain": [
       "           0\n",
       "0.25  151.25\n",
       "0.50  152.50"
      ]
     },
     "execution_count": 138,
     "metadata": {},
     "output_type": "execute_result"
    }
   ],
   "source": [
    "pd.DataFrame(dados).quantile([0.25,0.5])"
   ]
  },
  {
   "cell_type": "markdown",
   "metadata": {},
   "source": [
    "\n",
    "<h1 style=\"color:yellow;\">Quartis para Dados Agrupados</h1>"
   ]
  },
  {
   "cell_type": "code",
   "execution_count": 139,
   "metadata": {},
   "outputs": [],
   "source": [
    "dados = {'AlturasCM': np.repeat([150, 154, 158, 162, 166, 170], [5, 9, 11, 7, 5, 3])}"
   ]
  },
  {
   "cell_type": "code",
   "execution_count": 140,
   "metadata": {},
   "outputs": [
    {
     "data": {
      "text/html": [
       "<div>\n",
       "<style scoped>\n",
       "    .dataframe tbody tr th:only-of-type {\n",
       "        vertical-align: middle;\n",
       "    }\n",
       "\n",
       "    .dataframe tbody tr th {\n",
       "        vertical-align: top;\n",
       "    }\n",
       "\n",
       "    .dataframe thead th {\n",
       "        text-align: right;\n",
       "    }\n",
       "</style>\n",
       "<table border=\"1\" class=\"dataframe\">\n",
       "  <thead>\n",
       "    <tr style=\"text-align: right;\">\n",
       "      <th></th>\n",
       "      <th>AlturasCM</th>\n",
       "    </tr>\n",
       "  </thead>\n",
       "  <tbody>\n",
       "    <tr>\n",
       "      <th>0</th>\n",
       "      <td>150</td>\n",
       "    </tr>\n",
       "    <tr>\n",
       "      <th>1</th>\n",
       "      <td>150</td>\n",
       "    </tr>\n",
       "    <tr>\n",
       "      <th>2</th>\n",
       "      <td>150</td>\n",
       "    </tr>\n",
       "    <tr>\n",
       "      <th>3</th>\n",
       "      <td>150</td>\n",
       "    </tr>\n",
       "    <tr>\n",
       "      <th>4</th>\n",
       "      <td>150</td>\n",
       "    </tr>\n",
       "  </tbody>\n",
       "</table>\n",
       "</div>"
      ],
      "text/plain": [
       "   AlturasCM\n",
       "0        150\n",
       "1        150\n",
       "2        150\n",
       "3        150\n",
       "4        150"
      ]
     },
     "execution_count": 140,
     "metadata": {},
     "output_type": "execute_result"
    }
   ],
   "source": [
    "dataset = pd.DataFrame(dados)\n",
    "dataset.head()"
   ]
  },
  {
   "cell_type": "code",
   "execution_count": 142,
   "metadata": {},
   "outputs": [
    {
     "data": {
      "text/html": [
       "<div>\n",
       "<style scoped>\n",
       "    .dataframe tbody tr th:only-of-type {\n",
       "        vertical-align: middle;\n",
       "    }\n",
       "\n",
       "    .dataframe tbody tr th {\n",
       "        vertical-align: top;\n",
       "    }\n",
       "\n",
       "    .dataframe thead th {\n",
       "        text-align: right;\n",
       "    }\n",
       "</style>\n",
       "<table border=\"1\" class=\"dataframe\">\n",
       "  <thead>\n",
       "    <tr style=\"text-align: right;\">\n",
       "      <th></th>\n",
       "      <th>AlturasCM</th>\n",
       "      <th>count</th>\n",
       "      <th>percent</th>\n",
       "      <th>cumulative_count</th>\n",
       "      <th>cumulative_percent</th>\n",
       "    </tr>\n",
       "  </thead>\n",
       "  <tbody>\n",
       "    <tr>\n",
       "      <th>0</th>\n",
       "      <td>158</td>\n",
       "      <td>11</td>\n",
       "      <td>27.5</td>\n",
       "      <td>11</td>\n",
       "      <td>27.5</td>\n",
       "    </tr>\n",
       "    <tr>\n",
       "      <th>1</th>\n",
       "      <td>154</td>\n",
       "      <td>9</td>\n",
       "      <td>22.5</td>\n",
       "      <td>20</td>\n",
       "      <td>50.0</td>\n",
       "    </tr>\n",
       "    <tr>\n",
       "      <th>2</th>\n",
       "      <td>162</td>\n",
       "      <td>7</td>\n",
       "      <td>17.5</td>\n",
       "      <td>27</td>\n",
       "      <td>67.5</td>\n",
       "    </tr>\n",
       "    <tr>\n",
       "      <th>3</th>\n",
       "      <td>166</td>\n",
       "      <td>5</td>\n",
       "      <td>12.5</td>\n",
       "      <td>32</td>\n",
       "      <td>80.0</td>\n",
       "    </tr>\n",
       "    <tr>\n",
       "      <th>4</th>\n",
       "      <td>150</td>\n",
       "      <td>5</td>\n",
       "      <td>12.5</td>\n",
       "      <td>37</td>\n",
       "      <td>92.5</td>\n",
       "    </tr>\n",
       "    <tr>\n",
       "      <th>5</th>\n",
       "      <td>170</td>\n",
       "      <td>3</td>\n",
       "      <td>7.5</td>\n",
       "      <td>40</td>\n",
       "      <td>100.0</td>\n",
       "    </tr>\n",
       "  </tbody>\n",
       "</table>\n",
       "</div>"
      ],
      "text/plain": [
       "   AlturasCM  count  percent  cumulative_count  cumulative_percent\n",
       "0        158     11     27.5                11                27.5\n",
       "1        154      9     22.5                20                50.0\n",
       "2        162      7     17.5                27                67.5\n",
       "3        166      5     12.5                32                80.0\n",
       "4        150      5     12.5                37                92.5\n",
       "5        170      3      7.5                40               100.0"
      ]
     },
     "execution_count": 142,
     "metadata": {},
     "output_type": "execute_result"
    }
   ],
   "source": [
    "import sidetable\n",
    "\n",
    "dataset_sum = dataset.stb.freq(['AlturasCM'])\n",
    "dataset_sum\n"
   ]
  },
  {
   "cell_type": "code",
   "execution_count": 143,
   "metadata": {},
   "outputs": [
    {
     "data": {
      "text/html": [
       "<div>\n",
       "<style scoped>\n",
       "    .dataframe tbody tr th:only-of-type {\n",
       "        vertical-align: middle;\n",
       "    }\n",
       "\n",
       "    .dataframe tbody tr th {\n",
       "        vertical-align: top;\n",
       "    }\n",
       "\n",
       "    .dataframe thead th {\n",
       "        text-align: right;\n",
       "    }\n",
       "</style>\n",
       "<table border=\"1\" class=\"dataframe\">\n",
       "  <thead>\n",
       "    <tr style=\"text-align: right;\">\n",
       "      <th></th>\n",
       "      <th>AlturasCM</th>\n",
       "      <th>frequencia_absoluta</th>\n",
       "      <th>frequencia_relativa</th>\n",
       "      <th>frequencia_acumulada</th>\n",
       "      <th>frequencia_relativa_acumulado</th>\n",
       "      <th>faixa_altura</th>\n",
       "    </tr>\n",
       "  </thead>\n",
       "  <tbody>\n",
       "    <tr>\n",
       "      <th>0</th>\n",
       "      <td>158</td>\n",
       "      <td>11</td>\n",
       "      <td>27.5</td>\n",
       "      <td>11</td>\n",
       "      <td>27.5</td>\n",
       "      <td>(157.5, 160.0]</td>\n",
       "    </tr>\n",
       "    <tr>\n",
       "      <th>1</th>\n",
       "      <td>154</td>\n",
       "      <td>9</td>\n",
       "      <td>22.5</td>\n",
       "      <td>20</td>\n",
       "      <td>50.0</td>\n",
       "      <td>(152.5, 155.0]</td>\n",
       "    </tr>\n",
       "    <tr>\n",
       "      <th>2</th>\n",
       "      <td>162</td>\n",
       "      <td>7</td>\n",
       "      <td>17.5</td>\n",
       "      <td>27</td>\n",
       "      <td>67.5</td>\n",
       "      <td>(160.0, 162.5]</td>\n",
       "    </tr>\n",
       "    <tr>\n",
       "      <th>3</th>\n",
       "      <td>166</td>\n",
       "      <td>5</td>\n",
       "      <td>12.5</td>\n",
       "      <td>32</td>\n",
       "      <td>80.0</td>\n",
       "      <td>(165.0, 167.5]</td>\n",
       "    </tr>\n",
       "    <tr>\n",
       "      <th>4</th>\n",
       "      <td>150</td>\n",
       "      <td>5</td>\n",
       "      <td>12.5</td>\n",
       "      <td>37</td>\n",
       "      <td>92.5</td>\n",
       "      <td>(149.98, 152.5]</td>\n",
       "    </tr>\n",
       "    <tr>\n",
       "      <th>5</th>\n",
       "      <td>170</td>\n",
       "      <td>3</td>\n",
       "      <td>7.5</td>\n",
       "      <td>40</td>\n",
       "      <td>100.0</td>\n",
       "      <td>(167.5, 170.0]</td>\n",
       "    </tr>\n",
       "  </tbody>\n",
       "</table>\n",
       "</div>"
      ],
      "text/plain": [
       "   AlturasCM  frequencia_absoluta  frequencia_relativa  frequencia_acumulada  \\\n",
       "0        158                   11                 27.5                    11   \n",
       "1        154                    9                 22.5                    20   \n",
       "2        162                    7                 17.5                    27   \n",
       "3        166                    5                 12.5                    32   \n",
       "4        150                    5                 12.5                    37   \n",
       "5        170                    3                  7.5                    40   \n",
       "\n",
       "   frequencia_relativa_acumulado     faixa_altura  \n",
       "0                           27.5   (157.5, 160.0]  \n",
       "1                           50.0   (152.5, 155.0]  \n",
       "2                           67.5   (160.0, 162.5]  \n",
       "3                           80.0   (165.0, 167.5]  \n",
       "4                           92.5  (149.98, 152.5]  \n",
       "5                          100.0   (167.5, 170.0]  "
      ]
     },
     "execution_count": 143,
     "metadata": {},
     "output_type": "execute_result"
    }
   ],
   "source": [
    "renam = {'count':'frequencia_absoluta','percent':'frequencia_relativa',\n",
    "        'cumulative_count':'frequencia_acumulada','cumulative_percent':'frequencia_relativa_acumulado'}\n",
    "dataset_sum = dataset_sum.rename(columns=renam)\n",
    "dataset_sum['faixa_altura'] = pd.cut(dataset_sum['AlturasCM'],bins=8)\n",
    "dataset_sum"
   ]
  },
  {
   "cell_type": "code",
   "execution_count": 144,
   "metadata": {},
   "outputs": [
    {
     "data": {
      "text/html": [
       "<div>\n",
       "<style scoped>\n",
       "    .dataframe tbody tr th:only-of-type {\n",
       "        vertical-align: middle;\n",
       "    }\n",
       "\n",
       "    .dataframe tbody tr th {\n",
       "        vertical-align: top;\n",
       "    }\n",
       "\n",
       "    .dataframe thead th {\n",
       "        text-align: right;\n",
       "    }\n",
       "</style>\n",
       "<table border=\"1\" class=\"dataframe\">\n",
       "  <thead>\n",
       "    <tr style=\"text-align: right;\">\n",
       "      <th></th>\n",
       "      <th>AlturasCM</th>\n",
       "      <th>frequencia_absoluta</th>\n",
       "      <th>frequencia_relativa</th>\n",
       "      <th>frequencia_acumulada</th>\n",
       "      <th>frequencia_relativa_acumulado</th>\n",
       "      <th>faixa_altura</th>\n",
       "      <th>ponto</th>\n",
       "    </tr>\n",
       "  </thead>\n",
       "  <tbody>\n",
       "    <tr>\n",
       "      <th>0</th>\n",
       "      <td>158</td>\n",
       "      <td>11</td>\n",
       "      <td>27.5</td>\n",
       "      <td>11</td>\n",
       "      <td>27.5</td>\n",
       "      <td>(157.5, 160.0]</td>\n",
       "      <td>158.75</td>\n",
       "    </tr>\n",
       "    <tr>\n",
       "      <th>1</th>\n",
       "      <td>154</td>\n",
       "      <td>9</td>\n",
       "      <td>22.5</td>\n",
       "      <td>20</td>\n",
       "      <td>50.0</td>\n",
       "      <td>(152.5, 155.0]</td>\n",
       "      <td>153.75</td>\n",
       "    </tr>\n",
       "    <tr>\n",
       "      <th>2</th>\n",
       "      <td>162</td>\n",
       "      <td>7</td>\n",
       "      <td>17.5</td>\n",
       "      <td>27</td>\n",
       "      <td>67.5</td>\n",
       "      <td>(160.0, 162.5]</td>\n",
       "      <td>161.25</td>\n",
       "    </tr>\n",
       "    <tr>\n",
       "      <th>3</th>\n",
       "      <td>166</td>\n",
       "      <td>5</td>\n",
       "      <td>12.5</td>\n",
       "      <td>32</td>\n",
       "      <td>80.0</td>\n",
       "      <td>(165.0, 167.5]</td>\n",
       "      <td>166.25</td>\n",
       "    </tr>\n",
       "    <tr>\n",
       "      <th>4</th>\n",
       "      <td>150</td>\n",
       "      <td>5</td>\n",
       "      <td>12.5</td>\n",
       "      <td>37</td>\n",
       "      <td>92.5</td>\n",
       "      <td>(149.98, 152.5]</td>\n",
       "      <td>151.24</td>\n",
       "    </tr>\n",
       "    <tr>\n",
       "      <th>5</th>\n",
       "      <td>170</td>\n",
       "      <td>3</td>\n",
       "      <td>7.5</td>\n",
       "      <td>40</td>\n",
       "      <td>100.0</td>\n",
       "      <td>(167.5, 170.0]</td>\n",
       "      <td>168.75</td>\n",
       "    </tr>\n",
       "  </tbody>\n",
       "</table>\n",
       "</div>"
      ],
      "text/plain": [
       "   AlturasCM  frequencia_absoluta  frequencia_relativa  frequencia_acumulada  \\\n",
       "0        158                   11                 27.5                    11   \n",
       "1        154                    9                 22.5                    20   \n",
       "2        162                    7                 17.5                    27   \n",
       "3        166                    5                 12.5                    32   \n",
       "4        150                    5                 12.5                    37   \n",
       "5        170                    3                  7.5                    40   \n",
       "\n",
       "   frequencia_relativa_acumulado     faixa_altura   ponto  \n",
       "0                           27.5   (157.5, 160.0]  158.75  \n",
       "1                           50.0   (152.5, 155.0]  153.75  \n",
       "2                           67.5   (160.0, 162.5]  161.25  \n",
       "3                           80.0   (165.0, 167.5]  166.25  \n",
       "4                           92.5  (149.98, 152.5]  151.24  \n",
       "5                          100.0   (167.5, 170.0]  168.75  "
      ]
     },
     "execution_count": 144,
     "metadata": {},
     "output_type": "execute_result"
    }
   ],
   "source": [
    "# funcao que retorna o indice de cada classe\n",
    "# atributo retorna o ponto medio \n",
    "dataset_sum['ponto'] = pd.IntervalIndex(dataset_sum['faixa_altura']).mid\n",
    "dataset_sum"
   ]
  },
  {
   "cell_type": "code",
   "execution_count": 105,
   "metadata": {},
   "outputs": [
    {
     "data": {
      "text/html": [
       "<div>\n",
       "<style scoped>\n",
       "    .dataframe tbody tr th:only-of-type {\n",
       "        vertical-align: middle;\n",
       "    }\n",
       "\n",
       "    .dataframe tbody tr th {\n",
       "        vertical-align: top;\n",
       "    }\n",
       "\n",
       "    .dataframe thead th {\n",
       "        text-align: right;\n",
       "    }\n",
       "</style>\n",
       "<table border=\"1\" class=\"dataframe\">\n",
       "  <thead>\n",
       "    <tr style=\"text-align: right;\">\n",
       "      <th></th>\n",
       "      <th>AlturasCM</th>\n",
       "      <th>frequencia_absoluta</th>\n",
       "      <th>frequencia_relativa</th>\n",
       "      <th>frequencia_acumulada</th>\n",
       "      <th>frequencia_relativa_acumulado</th>\n",
       "      <th>faixa_altura</th>\n",
       "      <th>ponto</th>\n",
       "    </tr>\n",
       "  </thead>\n",
       "  <tbody>\n",
       "    <tr>\n",
       "      <th>4</th>\n",
       "      <td>150</td>\n",
       "      <td>5</td>\n",
       "      <td>12.5</td>\n",
       "      <td>37</td>\n",
       "      <td>92.5</td>\n",
       "      <td>(149.98, 152.5]</td>\n",
       "      <td>151.24</td>\n",
       "    </tr>\n",
       "    <tr>\n",
       "      <th>1</th>\n",
       "      <td>154</td>\n",
       "      <td>9</td>\n",
       "      <td>22.5</td>\n",
       "      <td>20</td>\n",
       "      <td>50.0</td>\n",
       "      <td>(152.5, 155.0]</td>\n",
       "      <td>153.75</td>\n",
       "    </tr>\n",
       "    <tr>\n",
       "      <th>0</th>\n",
       "      <td>158</td>\n",
       "      <td>11</td>\n",
       "      <td>27.5</td>\n",
       "      <td>11</td>\n",
       "      <td>27.5</td>\n",
       "      <td>(157.5, 160.0]</td>\n",
       "      <td>158.75</td>\n",
       "    </tr>\n",
       "    <tr>\n",
       "      <th>2</th>\n",
       "      <td>162</td>\n",
       "      <td>7</td>\n",
       "      <td>17.5</td>\n",
       "      <td>27</td>\n",
       "      <td>67.5</td>\n",
       "      <td>(160.0, 162.5]</td>\n",
       "      <td>161.25</td>\n",
       "    </tr>\n",
       "    <tr>\n",
       "      <th>3</th>\n",
       "      <td>166</td>\n",
       "      <td>5</td>\n",
       "      <td>12.5</td>\n",
       "      <td>32</td>\n",
       "      <td>80.0</td>\n",
       "      <td>(165.0, 167.5]</td>\n",
       "      <td>166.25</td>\n",
       "    </tr>\n",
       "    <tr>\n",
       "      <th>5</th>\n",
       "      <td>170</td>\n",
       "      <td>3</td>\n",
       "      <td>7.5</td>\n",
       "      <td>40</td>\n",
       "      <td>100.0</td>\n",
       "      <td>(167.5, 170.0]</td>\n",
       "      <td>168.75</td>\n",
       "    </tr>\n",
       "  </tbody>\n",
       "</table>\n",
       "</div>"
      ],
      "text/plain": [
       "   AlturasCM  frequencia_absoluta  frequencia_relativa  frequencia_acumulada  \\\n",
       "4        150                    5                 12.5                    37   \n",
       "1        154                    9                 22.5                    20   \n",
       "0        158                   11                 27.5                    11   \n",
       "2        162                    7                 17.5                    27   \n",
       "3        166                    5                 12.5                    32   \n",
       "5        170                    3                  7.5                    40   \n",
       "\n",
       "   frequencia_relativa_acumulado     faixa_altura   ponto  \n",
       "4                           92.5  (149.98, 152.5]  151.24  \n",
       "1                           50.0   (152.5, 155.0]  153.75  \n",
       "0                           27.5   (157.5, 160.0]  158.75  \n",
       "2                           67.5   (160.0, 162.5]  161.25  \n",
       "3                           80.0   (165.0, 167.5]  166.25  \n",
       "5                          100.0   (167.5, 170.0]  168.75  "
      ]
     },
     "execution_count": 105,
     "metadata": {},
     "output_type": "execute_result"
    }
   ],
   "source": []
  },
  {
   "cell_type": "markdown",
   "metadata": {},
   "source": [
    "\n",
    "<b>25%</b> e representado por 1/4<br>\n",
    "<b>50%</b> e representado por 2/4<br>\n",
    "<b>75%</b> e representado por 3/4 <br>\n",
    "4 sao total de cortes que fazemos no quartil \n",
    "\n",
    "q1 = (Limite inferior + soma frequancia absoluta/4  - Frequencia absoluta anterior / Soma Frquencia absoluta) * amplitude"
   ]
  },
  {
   "cell_type": "code",
   "execution_count": 145,
   "metadata": {},
   "outputs": [
    {
     "data": {
      "text/plain": [
       "5    10.0\n",
       "Name: frequencia_acumulada, dtype: float64"
      ]
     },
     "execution_count": 145,
     "metadata": {},
     "output_type": "execute_result"
    }
   ],
   "source": [
    "total_freq_acum = dataset_sum['frequencia_acumulada'].tail(1)\n",
    "Efi = total_freq_acum/4 # primeira parte da formula, soma frquencia acumlada/4 \n",
    "Efi # sera a constante da formula, serve para acharmos onde esta o q1 "
   ]
  },
  {
   "cell_type": "code",
   "execution_count": 146,
   "metadata": {},
   "outputs": [
    {
     "data": {
      "text/plain": [
       "array([149.98, 152.5 , 157.5 , 160.  , 165.  , 167.5 ])"
      ]
     },
     "execution_count": 146,
     "metadata": {},
     "output_type": "execute_result"
    }
   ],
   "source": [
    "v = np.array(pd.IntervalIndex(dataset_sum['faixa_altura']).left)# limite inferiorb\n",
    "v.sort()\n",
    "v"
   ]
  },
  {
   "cell_type": "code",
   "execution_count": 255,
   "metadata": {},
   "outputs": [
    {
     "data": {
      "text/plain": [
       "167.0"
      ]
     },
     "execution_count": 255,
     "metadata": {},
     "output_type": "execute_result"
    }
   ],
   "source": [
    "# 1/4 representa 25 , 2/4 representa 50 , 3/4 75% \n",
    "# limite inferior e o menor limite do intervalo \n",
    "# preciso encontrar pela frequencia acumulada onde esta os 25% nesse caso no 11, pois 11/40 = 27% \n",
    "# os 25% esta contido nos 27 % \n",
    "\n",
    "'''\n",
    "limite inferior (menor n)do intervalo + (soma Facumulada / 4 quartil(25%) ) - frequencia acumulada  anterior/\n",
    "frequencia do intervalo* amplitude(164-168 = 4 )\n",
    "'''\n",
    "Q1 = (164+ 40/4-7 )/ 4 *4\n",
    "Q1"
   ]
  },
  {
   "cell_type": "code",
   "execution_count": 256,
   "metadata": {},
   "outputs": [
    {
     "data": {
      "text/plain": [
       "174.0"
      ]
     },
     "execution_count": 256,
     "metadata": {},
     "output_type": "execute_result"
    }
   ],
   "source": [
    "q2 =  172 + (((40/2)-16)*4)/8\n",
    "q2"
   ]
  },
  {
   "cell_type": "code",
   "execution_count": null,
   "metadata": {},
   "outputs": [],
   "source": []
  }
 ],
 "metadata": {
  "kernelspec": {
   "display_name": "Python 3.9.12 ('base')",
   "language": "python",
   "name": "python3"
  },
  "language_info": {
   "codemirror_mode": {
    "name": "ipython",
    "version": 3
   },
   "file_extension": ".py",
   "mimetype": "text/x-python",
   "name": "python",
   "nbconvert_exporter": "python",
   "pygments_lexer": "ipython3",
   "version": "3.9.12"
  },
  "orig_nbformat": 4,
  "vscode": {
   "interpreter": {
    "hash": "4f8615f1cda2a11f782ba972b5b6f6f9848cdfdc733b0cbafbbc9a871cc9c72c"
   }
  }
 },
 "nbformat": 4,
 "nbformat_minor": 2
}
