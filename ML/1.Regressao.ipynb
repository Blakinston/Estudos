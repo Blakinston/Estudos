{
 "cells": [
  {
   "cell_type": "markdown",
   "metadata": {},
   "source": [
    "Regressoes"
   ]
  },
  {
   "cell_type": "markdown",
   "metadata": {},
   "source": [
    "como uma ou mais variavel pode mudar o comportamento de outra<br>\n",
    "tratatamos numeros<br>\n",
    "X: independente(altura)<br>\n",
    "Y: dependente(peso)<br>\n",
    "\n",
    "\n",
    "y^ = a+b"
   ]
  },
  {
   "cell_type": "markdown",
   "metadata": {},
   "source": [
    "y^ : valor previsto <br>\n",
    "x: variavel independente <br>\n",
    "a: ponto onde a linha intercpta eixo y<br>\n",
    "b: inlinacao da reta"
   ]
  },
  {
   "cell_type": "markdown",
   "metadata": {},
   "source": [
    "Metodo dos minimos quadrados: minimiza a soma das distancias ao quadrado dos dados plotados <br>\n",
    "calculo diferencial com derivadas parciais"
   ]
  },
  {
   "cell_type": "markdown",
   "metadata": {},
   "source": [
    "Erro de estimativa: mede os desvios da estimativa e o valor fornecido da amostra<br>\n",
    "Coeficiente de Determinacao: proporcao de variacao de (quadrado do coef de correlacao^2) <br>\n"
   ]
  },
  {
   "cell_type": "markdown",
   "metadata": {},
   "source": [
    "Soma total dos quadrados: Variacao de Y em torno da propria media<br>\n",
    "Soma dos quadrados da regressao: Variacao de Y considerando as variveis x utilizadas<br>\n",
    "Soma dos quadrados dos residuous: Variacao de Y que nao e explicada pelo modelo elaborado<br>\n",
    "\n"
   ]
  },
  {
   "cell_type": "markdown",
   "metadata": {},
   "source": [
    "R^2: comprendese o poder explicativo do modelo, quanto da Y e explicado por X"
   ]
  },
  {
   "cell_type": "code",
   "execution_count": 28,
   "metadata": {},
   "outputs": [
    {
     "data": {
      "text/html": [
       "<div>\n",
       "<style scoped>\n",
       "    .dataframe tbody tr th:only-of-type {\n",
       "        vertical-align: middle;\n",
       "    }\n",
       "\n",
       "    .dataframe tbody tr th {\n",
       "        vertical-align: top;\n",
       "    }\n",
       "\n",
       "    .dataframe thead th {\n",
       "        text-align: right;\n",
       "    }\n",
       "</style>\n",
       "<table border=\"1\" class=\"dataframe\">\n",
       "  <thead>\n",
       "    <tr style=\"text-align: right;\">\n",
       "      <th></th>\n",
       "      <th>apartamento_id</th>\n",
       "      <th>area_m_qd</th>\n",
       "      <th>n_quartos</th>\n",
       "      <th>valor</th>\n",
       "    </tr>\n",
       "  </thead>\n",
       "  <tbody>\n",
       "    <tr>\n",
       "      <th>0</th>\n",
       "      <td>100</td>\n",
       "      <td>50</td>\n",
       "      <td>5</td>\n",
       "      <td>1245900</td>\n",
       "    </tr>\n",
       "    <tr>\n",
       "      <th>1</th>\n",
       "      <td>200</td>\n",
       "      <td>90</td>\n",
       "      <td>6</td>\n",
       "      <td>1302763</td>\n",
       "    </tr>\n",
       "    <tr>\n",
       "      <th>2</th>\n",
       "      <td>300</td>\n",
       "      <td>100</td>\n",
       "      <td>8</td>\n",
       "      <td>13559626</td>\n",
       "    </tr>\n",
       "    <tr>\n",
       "      <th>3</th>\n",
       "      <td>400</td>\n",
       "      <td>20</td>\n",
       "      <td>2</td>\n",
       "      <td>305689</td>\n",
       "    </tr>\n",
       "    <tr>\n",
       "      <th>4</th>\n",
       "      <td>500</td>\n",
       "      <td>120</td>\n",
       "      <td>6</td>\n",
       "      <td>1354626</td>\n",
       "    </tr>\n",
       "  </tbody>\n",
       "</table>\n",
       "</div>"
      ],
      "text/plain": [
       "   apartamento_id  area_m_qd  n_quartos     valor\n",
       "0             100         50          5   1245900\n",
       "1             200         90          6   1302763\n",
       "2             300        100          8  13559626\n",
       "3             400         20          2    305689\n",
       "4             500        120          6   1354626"
      ]
     },
     "execution_count": 28,
     "metadata": {},
     "output_type": "execute_result"
    }
   ],
   "source": [
    "import pandas as pd \n",
    "import numpy as np \n",
    "import seaborn as sn \n",
    "\n",
    "ap = pd.read_excel('dados.xlsx')\n",
    "ap.head()"
   ]
  },
  {
   "cell_type": "markdown",
   "metadata": {},
   "source": [
    "nescessitamos de encontrar o alpha e beta, para ajustar, nossa reta aos dados\n",
    "h0(x) =a,phax+Beta\n"
   ]
  },
  {
   "cell_type": "markdown",
   "metadata": {},
   "source": [
    "Minimos quadrados"
   ]
  },
  {
   "cell_type": "markdown",
   "metadata": {},
   "source": [
    "otmizacao matematica, para minimizar a soma dos quadrados das diferencas entre estimado e observado<br>\n",
    "\n",
    "b = SUM(xi-Xmedia)*(yi-Ymedia)/(xi-Xmedia)**2"
   ]
  },
  {
   "cell_type": "markdown",
   "metadata": {},
   "source": [
    "Vantagens: formula com resultado direto <br>\n",
    "Desvantagem: multiplicacao de matrizes, podendo chegar a O(n**3), features grandes e lento"
   ]
  },
  {
   "cell_type": "code",
   "execution_count": 19,
   "metadata": {},
   "outputs": [],
   "source": [
    "# previsao dado um alpha e beta\n",
    "def pred(alpha,beta,X):\n",
    "    return alpha*X+beta"
   ]
  },
  {
   "cell_type": "code",
   "execution_count": 45,
   "metadata": {},
   "outputs": [
    {
     "data": {
      "text/plain": [
       "array([10.3 , 31.69, 52.15])"
      ]
     },
     "execution_count": 45,
     "metadata": {},
     "output_type": "execute_result"
    }
   ],
   "source": [
    "alpha=0.93 # inclinacao, com a inclinacao em 1 conseguimos criar uma reta mais proxima dos valores reais\n",
    "beta=1\n",
    "y = np.array([100,333,500])\n",
    "\n",
    "x=np.array([10,33,55])\n",
    "v_p = pred(alpha,beta,x)\n",
    "v_p#valor rpedito"
   ]
  },
  {
   "cell_type": "code",
   "execution_count": 69,
   "metadata": {},
   "outputs": [
    {
     "data": {
      "text/plain": [
       "[<matplotlib.lines.Line2D at 0x2cb1fbcc9a0>]"
      ]
     },
     "execution_count": 69,
     "metadata": {},
     "output_type": "execute_result"
    },
    {
     "data": {
      "image/png": "[encoded data removed]",
      "text/plain": [
       "<Figure size 360x360 with 1 Axes>"
      ]
     },
     "metadata": {
      "needs_background": "light"
     },
     "output_type": "display_data"
    }
   ],
   "source": [
    "import matplotlib.pyplot as plt\n",
    "# aqui o metodo dos minomos quadrados ira busca por uma reta com menor erro quadratico\n",
    "alpha = 8 # inclinacao\n",
    "beta = 42 # onde ele comeca, ponto y\n",
    "v_p = pred(alpha,beta,x) # cria \n",
    "\n",
    "_,ax=plt.subplots(figsize=(5,5))\n",
    "ax.scatter(x,y,c=\"b\") # valores\n",
    "plt.plot(x,v_p,\"r\") # reta\n"
   ]
  },
  {
   "cell_type": "code",
   "execution_count": null,
   "metadata": {},
   "outputs": [],
   "source": [
    "Gradiente descendente<br>\n",
    "Otimizacao: ajusta iterativamento os parametros para "
   ]
  }
 ],
 "metadata": {
  "kernelspec": {
   "display_name": "Python 3 (ipykernel)",
   "language": "python",
   "name": "python3"
  },
  "language_info": {
   "codemirror_mode": {
    "name": "ipython",
    "version": 3
   },
   "file_extension": ".py",
   "mimetype": "text/x-python",
   "name": "python",
   "nbconvert_exporter": "python",
   "pygments_lexer": "ipython3",
   "version": "3.9.12"
  },
  "vscode": {
   "interpreter": {
    "hash": "4f8615f1cda2a11f782ba972b5b6f6f9848cdfdc733b0cbafbbc9a871cc9c72c"
   }
  }
 },
 "nbformat": 4,
 "nbformat_minor": 2
}
