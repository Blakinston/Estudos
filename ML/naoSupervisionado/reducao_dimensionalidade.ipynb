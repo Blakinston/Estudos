{
 "cells": [
  {
   "cell_type": "markdown",
   "metadata": {},
   "source": [
    "### Reducao de dimensionalidade"
   ]
  },
  {
   "cell_type": "markdown",
   "metadata": {},
   "source": [
    "a diferenca entre dimensionalidade e volumetria e muito clara<br>\n",
    "Quando temos muitas features temos problemas de dimensionalidade, onde existe informacoes de mais <br>\n",
    "Big data tem relacao com valocidade <br><br>\n",
    "Maldicao de dimensionalidades, muitas dimensoes que causama ruidos mais nao trazem valores"
   ]
  },
  {
   "cell_type": "markdown",
   "metadata": {},
   "source": [
    "Manifold learning: aprender a geometria do problema para podermos contruir solucao"
   ]
  },
  {
   "cell_type": "markdown",
   "metadata": {},
   "source": [
    "#### Algoritimo Isomap"
   ]
  },
  {
   "cell_type": "markdown",
   "metadata": {},
   "source": [
    "Entender quais os vizinhos apartir de amostra gerando grafos, metodos sem kernell<br>\n",
    "Isomap: construir um grafo unindo vizinhos mais proximos, compara os menores caminhos dentro de uma matriz<br>\n",
    "induzir(ligar com k proximo) um grafo knn apartir do conjunto<br>\n",
    "matriz de distancia ponto a ponto, algoritimo de Dijkstra<br>\n",
    "cordenadas no plano que satisfazem matriz de distancia\n",
    "\n"
   ]
  },
  {
   "cell_type": "markdown",
   "metadata": {},
   "source": [
    "### Algoritimo PCA"
   ]
  },
  {
   "cell_type": "markdown",
   "metadata": {},
   "source": [
    "preservar variancia maxima(tem variabilidade de dados), hiperplano correto<br>\n",
    "indentifica o eixo<br>\n"
   ]
  },
  {
   "cell_type": "code",
   "execution_count": null,
   "metadata": {
    "vscode": {
     "languageId": "plaintext"
    }
   },
   "outputs": [],
   "source": []
  }
 ],
 "metadata": {
  "language_info": {
   "name": "python"
  },
  "orig_nbformat": 4
 },
 "nbformat": 4,
 "nbformat_minor": 2
}
