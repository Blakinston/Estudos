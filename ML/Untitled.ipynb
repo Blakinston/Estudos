{
 "cells": [
  {
   "cell_type": "markdown",
   "id": "7b53c6a7",
   "metadata": {},
   "source": [
    "Baseado em arvores de decisao<br>\n",
    "Gradient boosting: modelo sequencial otimizado<br>\n",
    "usado no kaggle"
   ]
  },
  {
   "cell_type": "markdown",
   "id": "c210f67c",
   "metadata": {},
   "source": [
    "ensamble: modelos que colaborma um com outro<br>\n",
    "bagging: msm algoritimo modelos diferentes(features), Random forest, votacao, parelizacao<br>\n",
    "boosting: consigo calcular erro, parelizacao durante construcao para deixar arvore simetrica<br>\n",
    "\n",
    "\n"
   ]
  },
  {
   "cell_type": "code",
   "execution_count": 2,
   "id": "f34f6667",
   "metadata": {},
   "outputs": [
    {
     "name": "stdout",
     "output_type": "stream",
     "text": [
      "Collecting xgboost\n",
      "  Downloading xgboost-1.6.1-py3-none-win_amd64.whl (125.4 MB)\n",
      "Requirement already satisfied: numpy in c:\\users\\familia\\anaconda3\\lib\\site-packages (from xgboost) (1.21.5)\n",
      "Requirement already satisfied: scipy in c:\\users\\familia\\anaconda3\\lib\\site-packages (from xgboost) (1.7.3)\n",
      "Installing collected packages: xgboost\n",
      "Successfully installed xgboost-1.6.1\n"
     ]
    }
   ],
   "source": [
    "!pip install xgboost"
   ]
  },
  {
   "cell_type": "code",
   "execution_count": null,
   "id": "4b773965",
   "metadata": {},
   "outputs": [],
   "source": [
    "import seaborn as sn \n"
   ]
  },
  {
   "cell_type": "code",
   "execution_count": null,
   "id": "fe0a0734",
   "metadata": {},
   "outputs": [],
   "source": []
  }
 ],
 "metadata": {
  "kernelspec": {
   "display_name": "Python 3 (ipykernel)",
   "language": "python",
   "name": "python3"
  },
  "language_info": {
   "codemirror_mode": {
    "name": "ipython",
    "version": 3
   },
   "file_extension": ".py",
   "mimetype": "text/x-python",
   "name": "python",
   "nbconvert_exporter": "python",
   "pygments_lexer": "ipython3",
   "version": "3.9.12"
  }
 },
 "nbformat": 4,
 "nbformat_minor": 5
}
