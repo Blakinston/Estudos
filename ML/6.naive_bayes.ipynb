{
 "cells": [
  {
   "cell_type": "markdown",
   "id": "c2beb19f",
   "metadata": {},
   "source": [
    "### Naive Bayes"
   ]
  },
  {
   "cell_type": "markdown",
   "id": "af63f505",
   "metadata": {},
   "source": [
    "# Abordagem teorema de bayes<br>\n",
    "probabilidade condicional ex<br>\n",
    "Risco de credito dado pela Historia de credito<br>\n",
    "Previsao de falhas<br>\n",
    "diagnosticos"
   ]
  },
  {
   "cell_type": "markdown",
   "id": "8c8a9cb0",
   "metadata": {},
   "source": [
    " nao travalha bem com atributos independentes<br>\n",
    "ele sofre com classes nao contidas no modelo(sim,nao) se chega uma classe desconhecida ele seta como null"
   ]
  },
  {
   "cell_type": "markdown",
   "id": "be6b1e9c",
   "metadata": {},
   "source": [
    "Probabilidade a priori: probabilidade um fato ter ocorrido ou nao: Balança quebrar ou nao<br>\n",
    "probabilidade de quebrar P(a) = 25% e Probabilidade de nao ter quebrado 75% <br>\n",
    "P(B|A)= probabilidade da balanca ter quebrado dada q ela quebrou 90% , probabilidade de falar q quebou e ele nao quebrou P(B|A^c) = 5%<br>\n",
    "Probababilibade conjunta: apriori*condicional: 0.25*0.9 = 0.225 22.5% do fato q balanca quebre e se ache o problema,P(A complementar) =0.75*0.05 = 0.0375= 3.75% chance de diagnosticar errado<br>\n",
    "Probabilidade A posteriori: balanca estar quebrada de fato estar quebrada: teorema de bayes\n"
   ]
  },
  {
   "cell_type": "code",
   "execution_count": 2,
   "id": "c30d0d8e",
   "metadata": {},
   "outputs": [],
   "source": [
    "from sklearn.naive_bayes import GaussianNB\n",
    "import pickle as pkl \n",
    "import numpy as np \n",
    "import os \n",
    "\n",
    "with open('credit.pkl','rb') as d:\n",
    "    x_train,y_train,x_test,y_test = pkl.load(d)"
   ]
  },
  {
   "cell_type": "code",
   "execution_count": 3,
   "id": "7d5d54a7",
   "metadata": {},
   "outputs": [
    {
     "data": {
      "text/html": [
       "<style>#sk-container-id-1 {color: black;background-color: white;}#sk-container-id-1 pre{padding: 0;}#sk-container-id-1 div.sk-toggleable {background-color: white;}#sk-container-id-1 label.sk-toggleable__label {cursor: pointer;display: block;width: 100%;margin-bottom: 0;padding: 0.3em;box-sizing: border-box;text-align: center;}#sk-container-id-1 label.sk-toggleable__label-arrow:before {content: \"▸\";float: left;margin-right: 0.25em;color: #696969;}#sk-container-id-1 label.sk-toggleable__label-arrow:hover:before {color: black;}#sk-container-id-1 div.sk-estimator:hover label.sk-toggleable__label-arrow:before {color: black;}#sk-container-id-1 div.sk-toggleable__content {max-height: 0;max-width: 0;overflow: hidden;text-align: left;background-color: #f0f8ff;}#sk-container-id-1 div.sk-toggleable__content pre {margin: 0.2em;color: black;border-radius: 0.25em;background-color: #f0f8ff;}#sk-container-id-1 input.sk-toggleable__control:checked~div.sk-toggleable__content {max-height: 200px;max-width: 100%;overflow: auto;}#sk-container-id-1 input.sk-toggleable__control:checked~label.sk-toggleable__label-arrow:before {content: \"▾\";}#sk-container-id-1 div.sk-estimator input.sk-toggleable__control:checked~label.sk-toggleable__label {background-color: #d4ebff;}#sk-container-id-1 div.sk-label input.sk-toggleable__control:checked~label.sk-toggleable__label {background-color: #d4ebff;}#sk-container-id-1 input.sk-hidden--visually {border: 0;clip: rect(1px 1px 1px 1px);clip: rect(1px, 1px, 1px, 1px);height: 1px;margin: -1px;overflow: hidden;padding: 0;position: absolute;width: 1px;}#sk-container-id-1 div.sk-estimator {font-family: monospace;background-color: #f0f8ff;border: 1px dotted black;border-radius: 0.25em;box-sizing: border-box;margin-bottom: 0.5em;}#sk-container-id-1 div.sk-estimator:hover {background-color: #d4ebff;}#sk-container-id-1 div.sk-parallel-item::after {content: \"\";width: 100%;border-bottom: 1px solid gray;flex-grow: 1;}#sk-container-id-1 div.sk-label:hover label.sk-toggleable__label {background-color: #d4ebff;}#sk-container-id-1 div.sk-serial::before {content: \"\";position: absolute;border-left: 1px solid gray;box-sizing: border-box;top: 0;bottom: 0;left: 50%;z-index: 0;}#sk-container-id-1 div.sk-serial {display: flex;flex-direction: column;align-items: center;background-color: white;padding-right: 0.2em;padding-left: 0.2em;position: relative;}#sk-container-id-1 div.sk-item {position: relative;z-index: 1;}#sk-container-id-1 div.sk-parallel {display: flex;align-items: stretch;justify-content: center;background-color: white;position: relative;}#sk-container-id-1 div.sk-item::before, #sk-container-id-1 div.sk-parallel-item::before {content: \"\";position: absolute;border-left: 1px solid gray;box-sizing: border-box;top: 0;bottom: 0;left: 50%;z-index: -1;}#sk-container-id-1 div.sk-parallel-item {display: flex;flex-direction: column;z-index: 1;position: relative;background-color: white;}#sk-container-id-1 div.sk-parallel-item:first-child::after {align-self: flex-end;width: 50%;}#sk-container-id-1 div.sk-parallel-item:last-child::after {align-self: flex-start;width: 50%;}#sk-container-id-1 div.sk-parallel-item:only-child::after {width: 0;}#sk-container-id-1 div.sk-dashed-wrapped {border: 1px dashed gray;margin: 0 0.4em 0.5em 0.4em;box-sizing: border-box;padding-bottom: 0.4em;background-color: white;}#sk-container-id-1 div.sk-label label {font-family: monospace;font-weight: bold;display: inline-block;line-height: 1.2em;}#sk-container-id-1 div.sk-label-container {text-align: center;}#sk-container-id-1 div.sk-container {/* jupyter's `normalize.less` sets `[hidden] { display: none; }` but bootstrap.min.css set `[hidden] { display: none !important; }` so we also need the `!important` here to be able to override the default hidden behavior on the sphinx rendered scikit-learn.org. See: https://github.com/scikit-learn/scikit-learn/issues/21755 */display: inline-block !important;position: relative;}#sk-container-id-1 div.sk-text-repr-fallback {display: none;}</style><div id=\"sk-container-id-1\" class=\"sk-top-container\"><div class=\"sk-text-repr-fallback\"><pre>GaussianNB()</pre><b>In a Jupyter environment, please rerun this cell to show the HTML representation or trust the notebook. <br />On GitHub, the HTML representation is unable to render, please try loading this page with nbviewer.org.</b></div><div class=\"sk-container\" hidden><div class=\"sk-item\"><div class=\"sk-estimator sk-toggleable\"><input class=\"sk-toggleable__control sk-hidden--visually\" id=\"sk-estimator-id-1\" type=\"checkbox\" checked><label for=\"sk-estimator-id-1\" class=\"sk-toggleable__label sk-toggleable__label-arrow\">GaussianNB</label><div class=\"sk-toggleable__content\"><pre>GaussianNB()</pre></div></div></div></div></div>"
      ],
      "text/plain": [
       "GaussianNB()"
      ]
     },
     "execution_count": 3,
     "metadata": {},
     "output_type": "execute_result"
    }
   ],
   "source": [
    "nv = GaussianNB()\n",
    "nv.fit(x_train,y_train)"
   ]
  },
  {
   "cell_type": "code",
   "execution_count": 5,
   "id": "c77a5fe3",
   "metadata": {},
   "outputs": [],
   "source": [
    "pred = nv.predict(x_test)"
   ]
  },
  {
   "cell_type": "code",
   "execution_count": 67,
   "id": "acfc47fc",
   "metadata": {
    "scrolled": true
   },
   "outputs": [
    {
     "name": "stdout",
     "output_type": "stream",
     "text": [
      "              precision    recall  f1-score   support\n",
      "\n",
      "           0       0.95      0.98      0.97       436\n",
      "           1       0.84      0.64      0.73        64\n",
      "\n",
      "    accuracy                           0.94       500\n",
      "   macro avg       0.89      0.81      0.85       500\n",
      "weighted avg       0.93      0.94      0.93       500\n",
      "\n"
     ]
    }
   ],
   "source": [
    "from sklearn.metrics import classification_report,accuracy_score,roc_auc_score\n",
    "\n",
    "print(classification_report(y_test,pred))"
   ]
  },
  {
   "cell_type": "code",
   "execution_count": 68,
   "id": "c430a0c0",
   "metadata": {},
   "outputs": [
    {
     "data": {
      "text/plain": [
       "0.8111381880733944"
      ]
     },
     "execution_count": 68,
     "metadata": {},
     "output_type": "execute_result"
    }
   ],
   "source": [
    "roc_auc_score(y_test,pred)"
   ]
  },
  {
   "cell_type": "code",
   "execution_count": 57,
   "id": "60d16894",
   "metadata": {},
   "outputs": [
    {
     "data": {
      "text/plain": [
       "2000"
      ]
     },
     "execution_count": 57,
     "metadata": {},
     "output_type": "execute_result"
    }
   ],
   "source": [
    "# unindo X e Y\n",
    "x= np.r_[x_train,x_test]\n",
    "y =np.r_[y_train,y_test]\n"
   ]
  },
  {
   "cell_type": "code",
   "execution_count": 59,
   "id": "2626e5fa",
   "metadata": {},
   "outputs": [
    {
     "data": {
      "text/plain": [
       "0.9264736921453341"
      ]
     },
     "execution_count": 59,
     "metadata": {},
     "output_type": "execute_result"
    }
   ],
   "source": [
    "from sklearn.model_selection import KFold,cross_val_score\n",
    "\n",
    "kfold = KFold(n_splits=30,shuffle=True,random_state=5)\n",
    "np.mean(cross_val_score(GaussianNB(),x,y,cv=kfold))"
   ]
  },
  {
   "cell_type": "code",
   "execution_count": 66,
   "id": "4b0935a6",
   "metadata": {},
   "outputs": [
    {
     "data": {
      "text/plain": [
       "array([0, 1], dtype=int64)"
      ]
     },
     "execution_count": 66,
     "metadata": {},
     "output_type": "execute_result"
    }
   ],
   "source": [
    "nv.classes_"
   ]
  },
  {
   "cell_type": "code",
   "execution_count": 64,
   "id": "1eb29da2",
   "metadata": {},
   "outputs": [
    {
     "data": {
      "text/plain": [
       "array([1281.,  219.])"
      ]
     },
     "execution_count": 64,
     "metadata": {},
     "output_type": "execute_result"
    }
   ],
   "source": [
    "nv.class_count_ # quantidade de elementos na base "
   ]
  },
  {
   "cell_type": "code",
   "execution_count": 60,
   "id": "723873e7",
   "metadata": {},
   "outputs": [
    {
     "data": {
      "text/plain": [
       "array([0.854, 0.146])"
      ]
     },
     "execution_count": 60,
     "metadata": {},
     "output_type": "execute_result"
    }
   ],
   "source": [
    "nv.class_prior_ # classes ele mostra a proporcao"
   ]
  },
  {
   "cell_type": "code",
   "execution_count": 71,
   "id": "9b20c910",
   "metadata": {},
   "outputs": [],
   "source": [
    "nv.priors"
   ]
  }
 ],
 "metadata": {
  "kernelspec": {
   "display_name": "Python 3 (ipykernel)",
   "language": "python",
   "name": "python3"
  },
  "language_info": {
   "codemirror_mode": {
    "name": "ipython",
    "version": 3
   },
   "file_extension": ".py",
   "mimetype": "text/x-python",
   "name": "python",
   "nbconvert_exporter": "python",
   "pygments_lexer": "ipython3",
   "version": "3.9.12"
  }
 },
 "nbformat": 4,
 "nbformat_minor": 5
}
