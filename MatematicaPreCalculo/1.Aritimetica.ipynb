{
 "cells": [
  {
   "cell_type": "code",
   "execution_count": 7,
   "metadata": {},
   "outputs": [
    {
     "data": {
      "text/plain": [
       "True"
      ]
     },
     "execution_count": 7,
     "metadata": {},
     "output_type": "execute_result"
    }
   ],
   "source": [
    "### Soma #####\n",
    "# propriedades\n",
    "# ############## \n",
    "# elemento neutro \n",
    "# a+0=a\n",
    "a = 2+0\n",
    "# ############## \n",
    "# elemento cumutativa: ordem dos fatores nao altera o resultado\n",
    "# a+b=b+a\n",
    "a=1\n",
    "b=3\n",
    "cum =a+b==b+a\n",
    "# ############## \n",
    "# elemento associativa: ordem das soma dos fatores indifere em uma operacao de soma\n",
    "# (a+b)+c = a+(c+b)\n",
    "c=3\n",
    "(a+b)+c == a+(c+b)"
   ]
  },
  {
   "cell_type": "code",
   "execution_count": 9,
   "metadata": {},
   "outputs": [
    {
     "data": {
      "text/plain": [
       "16"
      ]
     },
     "execution_count": 9,
     "metadata": {},
     "output_type": "execute_result"
    }
   ],
   "source": [
    "### Subtracao #####\n",
    "# propriedades\n",
    "# ############## \n",
    "# oposto do numero neutro \n",
    "# 5 -> -5, -5->5\n",
    "-2 *(-1)\n",
    "# ############## \n",
    "# elemento negativo\n",
    "# a+b=b+a\n",
    "a=1\n",
    "b=3\n",
    "8+3-(4-9)# 11-(4-9)->"
   ]
  }
 ],
 "metadata": {
  "kernelspec": {
   "display_name": "Python 3.9.12 ('base')",
   "language": "python",
   "name": "python3"
  },
  "language_info": {
   "codemirror_mode": {
    "name": "ipython",
    "version": 3
   },
   "file_extension": ".py",
   "mimetype": "text/x-python",
   "name": "python",
   "nbconvert_exporter": "python",
   "pygments_lexer": "ipython3",
   "version": "3.9.12"
  },
  "orig_nbformat": 4,
  "vscode": {
   "interpreter": {
    "hash": "4f8615f1cda2a11f782ba972b5b6f6f9848cdfdc733b0cbafbbc9a871cc9c72c"
   }
  }
 },
 "nbformat": 4,
 "nbformat_minor": 2
}
