{
 "cells": [
  {
   "cell_type": "markdown",
   "metadata": {},
   "source": [
    "Polinomios sao mais de tres monomios representando uma expressao algebrica"
   ]
  },
  {
   "cell_type": "markdown",
   "metadata": {},
   "source": [
    "funcao crescentes e decrescentes"
   ]
  },
  {
   "cell_type": "markdown",
   "metadata": {},
   "source": [
    "pegamos dois pares ordenados qualquer e classificamos como x1 e x2<br>\n",
    "x1<x2: temos que uma funcao crescente"
   ]
  },
  {
   "cell_type": "markdown",
   "metadata": {},
   "source": [
    "pegamos dois pares ordenados qualquer e classificamos como x1 e x2<br>\n",
    "x1>x2: temos que uma funcao decrescente"
   ]
  },
  {
   "cell_type": "markdown",
   "metadata": {},
   "source": [
    "funcoes polinomial do 1 grau<br>\n",
    "expontes >1 nao soa considerados"
   ]
  },
  {
   "cell_type": "markdown",
   "metadata": {},
   "source": [
    "#### f(x)=ax+b"
   ]
  },
  {
   "cell_type": "markdown",
   "metadata": {},
   "source": [
    "a: coeficiente angular <br>\n",
    "b: coeficiente linear"
   ]
  },
  {
   "cell_type": "markdown",
   "metadata": {},
   "source": [
    "a>0: funcao crescente<br>\n",
    "a<0: funcao decrescente<br>\n",
    "a = 0 : constante"
   ]
  },
  {
   "cell_type": "markdown",
   "metadata": {},
   "source": [
    "Raiz da funcao: encontrar o valor do seu dominio cuja imagem e zero"
   ]
  },
  {
   "cell_type": "markdown",
   "metadata": {},
   "source": [
    "y= -2x+3 -> -2x+3=0 -> -2x=-3 -> x = -3/-2 -> 1.5 "
   ]
  },
  {
   "cell_type": "code",
   "execution_count": null,
   "metadata": {},
   "outputs": [],
   "source": []
  }
 ],
 "metadata": {
  "kernelspec": {
   "display_name": "Python 3.9.12 ('base')",
   "language": "python",
   "name": "python3"
  },
  "language_info": {
   "name": "python",
   "version": "3.9.12"
  },
  "orig_nbformat": 4,
  "vscode": {
   "interpreter": {
    "hash": "4f8615f1cda2a11f782ba972b5b6f6f9848cdfdc733b0cbafbbc9a871cc9c72c"
   }
  }
 },
 "nbformat": 4,
 "nbformat_minor": 2
}
