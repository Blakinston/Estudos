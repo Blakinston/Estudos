{
 "cells": [
  {
   "cell_type": "markdown",
   "metadata": {},
   "source": [
    "Funcoes "
   ]
  },
  {
   "cell_type": "markdown",
   "metadata": {},
   "source": [
    "cada elemento de A tem um correspondente em B"
   ]
  },
  {
   "cell_type": "markdown",
   "metadata": {},
   "source": [
    "a{4} e b{2,-2}: nao temos, relacao unico elemento, na verdade o a se relaciona com dois elementos e nao com um unico correspondente"
   ]
  },
  {
   "cell_type": "markdown",
   "metadata": {},
   "source": [
    "Representação<br>\n",
    "f: a->b <br>\n",
    "y=f(x)"
   ]
  },
  {
   "cell_type": "markdown",
   "metadata": {},
   "source": [
    "Dominio D(f): todos elementos do conjunto A(entradas)<br>\n",
    "Contradominio CD(f):todos elementos do conjunto B(saidas)<br>\n",
    "Imagem: sao valores q estao tanto em A como em B, ou seja associados<br><br>\n",
    "Nunca sobra valor em dominio"
   ]
  },
  {
   "cell_type": "code",
   "execution_count": 12,
   "metadata": {},
   "outputs": [
    {
     "data": {
      "text/plain": [
       "[-2.0, -1.0, 0.0, 1.0, 1.3333333333333333, 1.6666666666666667]"
      ]
     },
     "execution_count": 12,
     "metadata": {},
     "output_type": "execute_result"
    }
   ],
   "source": [
    "# f(x) = 3x + 1 \n",
    "# inverso dela , y = x-1/3\n",
    "a = [-2,-1,0,1] # x\n",
    "b =[-5,-2,1,4,5,6] #y\n",
    "\n",
    "def f(x):\n",
    "    l = []\n",
    "    for i in x: \n",
    "        l.append((i-1)/3 )\n",
    "    return l\n",
    "f(b) # imagem"
   ]
  },
  {
   "cell_type": "code",
   "execution_count": 11,
   "metadata": {},
   "outputs": [
    {
     "data": {
      "text/plain": [
       "-2.0"
      ]
     },
     "execution_count": 11,
     "metadata": {},
     "output_type": "execute_result"
    }
   ],
   "source": [
    "-6/3"
   ]
  },
  {
   "cell_type": "markdown",
   "metadata": {},
   "source": [
    "### Tipos de funcoes"
   ]
  },
  {
   "cell_type": "markdown",
   "metadata": {},
   "source": [
    "Sobrejetora: contradominio e igual imagem da funcao<br>\n",
    "a{1,3,5,7} -> b{2,4,6}<br>\n",
    "1-2<br>\n",
    "3-2<br>\n",
    "5-4<br>\n",
    "7-6<br> \n",
    "\n",
    "D = {1,3,5,7}\n",
    "CD ={2,4,6}\n",
    "img = {2,4,6}"
   ]
  },
  {
   "cell_type": "markdown",
   "metadata": {},
   "source": [
    "Injetora: cada elemento de A e ligado somento um Elemento de B<br>\n",
    "a{-1,2,3} -> b{4,-2,6,5}<br>\n",
    "(-1) - (-2)<br>\n",
    "2-4<br>\n",
    "3-6<br>\n",
    "D = {-1,2,3}\n",
    "CD ={4,-2,6,5}\n",
    "img = {4,-2,6}"
   ]
  },
  {
   "cell_type": "markdown",
   "metadata": {},
   "source": [
    "Bijetora: sobrejetora e injetora<br>\n",
    "a{1,3,5} -> b{2,4,6}<br>\n",
    "1-2<br>\n",
    "3-4<br>\n",
    "5-6<br>\n",
    "\n",
    "D = {1,3,5}\n",
    "CD ={2,4,6}\n",
    "img = {2,4,6}"
   ]
  },
  {
   "cell_type": "markdown",
   "metadata": {},
   "source": [
    "funcao inversa"
   ]
  },
  {
   "cell_type": "markdown",
   "metadata": {},
   "source": [
    "Funcao q resulta o Inverso de <b>X</b> ou seja o <b>Y</b>"
   ]
  },
  {
   "cell_type": "markdown",
   "metadata": {},
   "source": [
    "Exemplo<br> \n",
    "f(x): x+2 , essa funcao usada para processar os dados<br>\n",
    "funcao q representa o inverso e <b>y=x-2<br>\n",
    "y=x+2 -> x=y+2  ->y=x-2\n"
   ]
  },
  {
   "cell_type": "markdown",
   "metadata": {},
   "source": [
    "F(x): 3x+1 <br><br>\n",
    "Y = 3x+1    <br><br>\n",
    "x = 3y+1    <br><br>\n",
    "-3y =-x+1 <br><br>\n",
    "-3y =-x+1 *(-1) <br><br>\n",
    "3y = x-1 <br><br>\n",
    "y= x-1/3, essa e a funcao inversa"
   ]
  }
 ],
 "metadata": {
  "kernelspec": {
   "display_name": "Python 3.9.12 ('base')",
   "language": "python",
   "name": "python3"
  },
  "language_info": {
   "codemirror_mode": {
    "name": "ipython",
    "version": 3
   },
   "file_extension": ".py",
   "mimetype": "text/x-python",
   "name": "python",
   "nbconvert_exporter": "python",
   "pygments_lexer": "ipython3",
   "version": "3.9.12"
  },
  "orig_nbformat": 4,
  "vscode": {
   "interpreter": {
    "hash": "4f8615f1cda2a11f782ba972b5b6f6f9848cdfdc733b0cbafbbc9a871cc9c72c"
   }
  }
 },
 "nbformat": 4,
 "nbformat_minor": 2
}
