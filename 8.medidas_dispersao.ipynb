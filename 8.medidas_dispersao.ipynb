{
 "cells": [
  {
   "cell_type": "markdown",
   "metadata": {},
   "source": [
    "Variancia"
   ]
  },
  {
   "cell_type": "markdown",
   "metadata": {},
   "source": [
    "Elevamos ao quadrado deixamos o numeros maior, assim ele fica mais afastado da media\n"
   ]
  },
  {
   "cell_type": "code",
   "execution_count": 2,
   "metadata": {},
   "outputs": [
    {
     "data": {
      "text/plain": [
       "66.66666666666667"
      ]
     },
     "execution_count": 2,
     "metadata": {},
     "output_type": "execute_result"
    }
   ],
   "source": [
    "import numpy as np\n",
    "\n",
    "\n",
    "np.var([10,20,30])"
   ]
  },
  {
   "cell_type": "code",
   "execution_count": 3,
   "metadata": {},
   "outputs": [
    {
     "data": {
      "text/plain": [
       "0.6666666666666666"
      ]
     },
     "execution_count": 3,
     "metadata": {},
     "output_type": "execute_result"
    }
   ],
   "source": [
    "np.var([1,2,3])"
   ]
  },
  {
   "cell_type": "code",
   "execution_count": 16,
   "metadata": {},
   "outputs": [
    {
     "data": {
      "text/plain": [
       "0.816496580927726"
      ]
     },
     "execution_count": 16,
     "metadata": {},
     "output_type": "execute_result"
    }
   ],
   "source": [
    "# Desvio padrao e a raiz quadrada da variancia \n",
    "np.std([1,2,3])"
   ]
  },
  {
   "cell_type": "code",
   "execution_count": 41,
   "metadata": {},
   "outputs": [
    {
     "data": {
      "text/plain": [
       "0.0"
      ]
     },
     "execution_count": 41,
     "metadata": {},
     "output_type": "execute_result"
    }
   ],
   "source": [
    "# verrificar quantos desvios esta da media o meu valor \n",
    "# 0 e igual a media\n",
    "# negativo - esta abaixo da media\n",
    "# positivo acima da media \n",
    "h = 2-np.mean([1,2,3])\n",
    "h\n",
    "np.std([1,2,3])*h"
   ]
  },
  {
   "cell_type": "code",
   "execution_count": 90,
   "metadata": {},
   "outputs": [
    {
     "data": {
      "text/plain": [
       "2.449489742783178"
      ]
     },
     "execution_count": 90,
     "metadata": {},
     "output_type": "execute_result"
    }
   ],
   "source": [
    "from scipy import stats\n",
    "\n",
    "stats.tstd([2,2,5,7],ddof=1) # amostral, fator de correcao n-1\n",
    "# n-1"
   ]
  },
  {
   "cell_type": "code",
   "execution_count": 137,
   "metadata": {},
   "outputs": [
    {
     "data": {
      "text/plain": [
       "11.991779220157447"
      ]
     },
     "execution_count": 137,
     "metadata": {},
     "output_type": "execute_result"
    }
   ],
   "source": [
    "import pandas as pd\n",
    "import math \n",
    "\n",
    "# desvio padrao de dados agrupados \n",
    "\n",
    "alturas = [150,151,152,154,155,156,157,166,188,199,173,173,173,175]\n",
    "dataset = pd.DataFrame(alturas,columns=['alturas'])\n",
    "\n",
    "dataset['faixa'] =pd.cut(dataset['alturas'],bins=8)# faixa de alturas\n",
    "dataset['pont_medio'] = pd.IntervalIndex(dataset['faixa']).mid # ponto medio das faixas\n",
    "\n",
    "dataset['pont_medio_2'] = dataset['pont_medio']**2 # eleva o ponto medio ao quadrado\n",
    "dataset['fi']=None\n",
    "dataset.loc[dataset['alturas']!=173,'fi']= 1 # quantidade de vezes q a obs se repete\n",
    "dataset.loc[dataset['alturas']==173,'fi']= 3\n",
    "dataset['fi.xi'] = dataset['fi'] *dataset['pont_medio'] # normal\n",
    "dataset['fi_xi_2'] = dataset['fi'] *dataset['pont_medio_2'] # elevado \n",
    "\n",
    "math.sqrt(dataset['fi_xi_2'].sum() / dataset['fi'].sum() - math.pow(dataset['fi.xi'].sum() / dataset['fi'].sum(), 2))\n"
   ]
  },
  {
   "cell_type": "code",
   "execution_count": 126,
   "metadata": {},
   "outputs": [
    {
     "data": {
      "text/plain": [
       "177.5625"
      ]
     },
     "execution_count": 126,
     "metadata": {},
     "output_type": "execute_result"
    }
   ],
   "source": []
  },
  {
   "cell_type": "markdown",
   "metadata": {},
   "source": [
    "Graus de liberdade e a quantidade informação, no nosso exemplo 5 observacoes \n",
    "\n",
    "quanto MAIS informação mais liberdade<br>\n",
    "quanto MENOS informacao menos liverdade"
   ]
  },
  {
   "cell_type": "code",
   "execution_count": 66,
   "metadata": {},
   "outputs": [
    {
     "data": {
      "text/plain": [
       "-2444.0"
      ]
     },
     "execution_count": 66,
     "metadata": {},
     "output_type": "execute_result"
    }
   ],
   "source": [
    "vt = np.array([5,100,5,2354,.0])#.0 representa o x\n",
    "\n",
    "media_requerida = 4\n",
    "n = len(vt) # que dividiria pela soma delemento passa para outro lado da equacao\n",
    "soma = vt.sum()\n",
    "v1 = media_requerida*n\n",
    "v1-soma\n"
   ]
  },
  {
   "cell_type": "code",
   "execution_count": 74,
   "metadata": {},
   "outputs": [
    {
     "data": {
      "text/plain": [
       "4.0"
      ]
     },
     "execution_count": 74,
     "metadata": {},
     "output_type": "execute_result"
    }
   ],
   "source": [
    "np.mean([5,100,5,2354,-2444])"
   ]
  },
  {
   "cell_type": "code",
   "execution_count": 76,
   "metadata": {},
   "outputs": [
    {
     "data": {
      "text/plain": [
       "36"
      ]
     },
     "execution_count": 76,
     "metadata": {},
     "output_type": "execute_result"
    }
   ],
   "source": [
    "# parametros sao medidas de resumo\n",
    "# usei 4 parametros(4 medias)\n",
    "# 40 dados \n",
    "\n",
    "40-4"
   ]
  },
  {
   "cell_type": "markdown",
   "metadata": {},
   "source": [
    "Coeficiente de variacao"
   ]
  },
  {
   "cell_type": "code",
   "execution_count": 92,
   "metadata": {},
   "outputs": [
    {
     "data": {
      "text/plain": [
       "0.5"
      ]
     },
     "execution_count": 92,
     "metadata": {},
     "output_type": "execute_result"
    }
   ],
   "source": [
    "stats.variation([1,2,3],ddof=1) # ddof=1 amostral, graus de liberdade"
   ]
  },
  {
   "cell_type": "code",
   "execution_count": 110,
   "metadata": {},
   "outputs": [
    {
     "data": {
      "text/plain": [
       "23.328473740792173"
      ]
     },
     "execution_count": 110,
     "metadata": {},
     "output_type": "execute_result"
    }
   ],
   "source": [
    "# grupo homogeneo : dados proximos parecidos entre si, quanto menor o coeficiente de variação\n",
    "# heterogeneo: dados diferentes, quanto maior for o coeficiente de variação\n",
    "\n",
    "stats.variation([5,7,9],ddof=0) *100 # notas aluno X, suas notas variam muito"
   ]
  },
  {
   "cell_type": "code",
   "execution_count": 115,
   "metadata": {},
   "outputs": [
    {
     "data": {
      "text/plain": [
       "1.349481579213312"
      ]
     },
     "execution_count": 115,
     "metadata": {},
     "output_type": "execute_result"
    }
   ],
   "source": [
    "stats.variation([7.74,7.88,8],ddof=0) *100 # Aluno Z, tem notas proximas a sua media"
   ]
  },
  {
   "cell_type": "code",
   "execution_count": null,
   "metadata": {},
   "outputs": [],
   "source": []
  }
 ],
 "metadata": {
  "kernelspec": {
   "display_name": "Python 3.9.12 ('base')",
   "language": "python",
   "name": "python3"
  },
  "language_info": {
   "codemirror_mode": {
    "name": "ipython",
    "version": 3
   },
   "file_extension": ".py",
   "mimetype": "text/x-python",
   "name": "python",
   "nbconvert_exporter": "python",
   "pygments_lexer": "ipython3",
   "version": "3.9.12"
  },
  "orig_nbformat": 4,
  "vscode": {
   "interpreter": {
    "hash": "4f8615f1cda2a11f782ba972b5b6f6f9848cdfdc733b0cbafbbc9a871cc9c72c"
   }
  }
 },
 "nbformat": 4,
 "nbformat_minor": 2
}
