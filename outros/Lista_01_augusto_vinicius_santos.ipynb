{
  "cells": [
    {
      "cell_type": "markdown",
      "metadata": {
        "id": "OPxw3wHf2Rs2"
      },
      "source": [
        "# Lista de Exercícios 1 \n",
        "\n",
        "\\\\\n",
        "\n",
        "1. Considere o sistema Linear abaixo:\n",
        "\n",
        "\\\\\n",
        "\n",
        "$$4x_0+2x_1+x_2-2x_3=3$$\n",
        "$$3x_0-3x_1-x_2-x_3=2$$\n",
        "$$3x_0+5x_1+x_2+x_3=0$$\n",
        "$$x_0-x_1-x_2+4x_3=-2$$\n",
        "\n",
        "\\\\\n",
        "\n",
        "De termine o vetor $X = \\begin{bmatrix}\n",
        "x_0 \\\\ x_1 \\\\ x_2 \\\\ x_3\n",
        "\\end{bmatrix}$ que  resolva a equação matricial."
      ]
    },
    {
      "cell_type": "code",
      "execution_count": 7,
      "metadata": {},
      "outputs": [
        {
          "data": {
            "text/plain": [
              "0.42857142857142855"
            ]
          },
          "execution_count": 7,
          "metadata": {},
          "output_type": "execute_result"
        }
      ],
      "source": [
        "3/7"
      ]
    },
    {
      "cell_type": "code",
      "execution_count": 4,
      "metadata": {
        "id": "BL8NDbCL2PGM"
      },
      "outputs": [
        {
          "data": {
            "text/plain": [
              "array([ 0.57692308, -0.73076923,  2.        , -0.07692308])"
            ]
          },
          "execution_count": 4,
          "metadata": {},
          "output_type": "execute_result"
        }
      ],
      "source": [
        "import numpy as np\n",
        "\n",
        "X = np.array([[4,2,1,-2],[3,-3,-1,-1],[3,5,1,1], [1,-1,-1,4]]) # icongtas\n",
        "Y = np.array([3,2,0,-1])# constante \n",
        "\n",
        "\n",
        "np.linalg.solve(X,Y)\n",
        "\n"
      ]
    },
    {
      "cell_type": "markdown",
      "metadata": {
        "id": "fP9n1BxB5lBK"
      },
      "source": [
        "2. Um parque tem 3 pistas para caminhada, X, Y e Z. Ana deu 2 voltas na pista X, 3 voltas na pista Y e 1 volta na pista Z, tendo caminhado um total de 8.420 metros. João deu 1 volta na pista X, 2 voltas na pista Y e 2 voltas na pista Z, num total de 7.940 metros. Marcela deu 4 voltas na pista X e 3 voltas na pista Y, num total de 8.110 metros. O comprimento da maior dessas pistas, excede o comprimento da menor pista em quantos metros?"
      ]
    },
    {
      "cell_type": "code",
      "execution_count": 3,
      "metadata": {
        "id": "_MMux6_N6jm6"
      },
      "outputs": [
        {
          "data": {
            "text/plain": [
              "array([ 820., 1610., 1950.])"
            ]
          },
          "execution_count": 3,
          "metadata": {},
          "output_type": "execute_result"
        }
      ],
      "source": [
        "\n",
        "X = np.array([[2,3,1], [1,2,2],[4,3,0]])\n",
        "Y = np.array([8420,7940,8110])\n",
        "\n",
        "np.linalg.solve(X,Y)\n",
        "\n"
      ]
    },
    {
      "cell_type": "markdown",
      "metadata": {
        "id": "XWa4qWN77Ust"
      },
      "source": [
        "# Observação\n",
        "\n",
        "\\\\\n",
        "\n",
        "As respostas devem ser respondidas em python evidenciando cada etapa do processo."
      ]
    }
  ],
  "metadata": {
    "colab": {
      "name": "Lista_01.ipynb",
      "provenance": []
    },
    "kernelspec": {
      "display_name": "Python 3.9.12 ('base')",
      "language": "python",
      "name": "python3"
    },
    "language_info": {
      "codemirror_mode": {
        "name": "ipython",
        "version": 3
      },
      "file_extension": ".py",
      "mimetype": "text/x-python",
      "name": "python",
      "nbconvert_exporter": "python",
      "pygments_lexer": "ipython3",
      "version": "3.9.12"
    },
    "vscode": {
      "interpreter": {
        "hash": "4f8615f1cda2a11f782ba972b5b6f6f9848cdfdc733b0cbafbbc9a871cc9c72c"
      }
    }
  },
  "nbformat": 4,
  "nbformat_minor": 0
}
