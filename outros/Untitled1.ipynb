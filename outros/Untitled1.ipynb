{
 "cells": [
  {
   "cell_type": "code",
   "execution_count": 28,
   "metadata": {},
   "outputs": [],
   "source": [
    "import sagemaker\n",
    "import boto3 \n",
    "from sagemaker import Session \n",
    "\n",
    "sessao      = boto3.resource('s3')# sessao do s3, servico\n",
    "ses         = sagemaker.Session() # sessai so sagemaker\n",
    "rol = sagemaker.get_execution_role()\n"
   ]
  },
  {
   "cell_type": "code",
   "execution_count": 29,
   "metadata": {},
   "outputs": [
    {
     "data": {
      "text/plain": [
       "'s3://meunovo/modelo/kmeans'"
      ]
     },
     "execution_count": 29,
     "metadata": {},
     "output_type": "execute_result"
    }
   ],
   "source": [
    "bucket= 'meunovo'\n",
    "pasta = 'modelo/kmeans'\n",
    "saida='s3://'+bucket+\"/\"+pasta\n",
    "saida"
   ]
  },
  {
   "cell_type": "code",
   "execution_count": 30,
   "metadata": {},
   "outputs": [],
   "source": [
    "from sagemaker import KMeans \n",
    "\n",
    "km = KMeans(role=rol,\n",
    "             instance_count=1,\n",
    "             instance_type='ml.c4.xlarge',\n",
    "             output_path = saida,\n",
    "             k=4)"
   ]
  },
  {
   "cell_type": "code",
   "execution_count": 35,
   "metadata": {},
   "outputs": [
    {
     "data": {
      "text/plain": [
       "array([[-1.8796388 , -1.1141357 ],\n",
       "       [-1.23255   , -1.0172544 ],\n",
       "       [-1.7871976 , -0.19376273],\n",
       "       [-0.3081375 , -0.7023899 ],\n",
       "       [ 0.52383375, -1.1625764 ],\n",
       "       [ 1.1709225 , -1.1383561 ],\n",
       "       [ 1.355805  , -0.6297289 ],\n",
       "       [ 0.616275  , -0.5812882 ],\n",
       "       [ 1.0784813 , -0.14532205],\n",
       "       [-0.7703438 ,  1.2594578 ],\n",
       "       [-0.12325501,  0.38752547],\n",
       "       [ 0.0616275 ,  0.8719323 ],\n",
       "       [-0.12325501,  1.7923052 ],\n",
       "       [ 0.7087163 ,  0.82349163],\n",
       "       [ 0.7087163 ,  1.5501019 ]], dtype=float32)"
      ]
     },
     "execution_count": 35,
     "metadata": {},
     "output_type": "execute_result"
    }
   ],
   "source": [
    "from sklearn.preprocessing import StandardScaler\n",
    "import numpy as np\n",
    "base_salario = np.array([[20,1000],[27,1200],[21,2900],[37,1850],[46,900],\n",
    "                        [53,950],[55,2000],[47,2100],[52,3000],[32,5900],\n",
    "                        [39,4100],[41,5100],[39,7000],[48,5000],[48,6500]])\n",
    "\n",
    "scaler_salario = StandardScaler() # preciso padronizar para fazer com que nao tenha problemas ao decidir valores mais importantes\n",
    "base_salario = scaler_salario.fit_transform(base_salario)  \n",
    "base_salario = base_salario.astype('float32')\n",
    "base_salario"
   ]
  },
  {
   "cell_type": "code",
   "execution_count": 36,
   "metadata": {
    "collapsed": true,
    "jupyter": {
     "outputs_hidden": true
    }
   },
   "outputs": [
    {
     "name": "stderr",
     "output_type": "stream",
     "text": [
      "Defaulting to the only supported framework/algorithm version: 1. Ignoring framework/algorithm version: 1.\n"
     ]
    },
    {
     "name": "stdout",
     "output_type": "stream",
     "text": [
      "2022-08-12 21:56:20 Starting - Starting the training job...\n",
      "2022-08-12 21:56:48 Starting - Preparing the instances for trainingProfilerReport-1660341380: InProgress\n",
      ".........\n",
      "2022-08-12 21:58:18 Downloading - Downloading input data...\n",
      "2022-08-12 21:58:48 Training - Downloading the training image.....\u001b[34mDocker entrypoint called with argument(s): train\u001b[0m\n",
      "\u001b[34mRunning default environment configuration script\u001b[0m\n",
      "\u001b[34m[08/12/2022 21:59:27 INFO 139901186357056] Reading default configuration from /opt/amazon/lib/python3.7/site-packages/algorithm/resources/default-input.json: {'init_method': 'random', 'mini_batch_size': '5000', 'epochs': '1', 'extra_center_factor': 'auto', 'local_lloyd_max_iter': '300', 'local_lloyd_tol': '0.0001', 'local_lloyd_init_method': 'kmeans++', 'local_lloyd_num_trials': 'auto', 'half_life_time_size': '0', 'eval_metrics': '[\"msd\"]', 'force_dense': 'true', '_disable_wait_to_read': 'false', '_enable_profiler': 'false', '_kvstore': 'auto', '_log_level': 'info', '_num_gpus': 'auto', '_num_kv_servers': '1', '_num_slices': '1', '_tuning_objective_metric': ''}\u001b[0m\n",
      "\u001b[34m[08/12/2022 21:59:27 INFO 139901186357056] Merging with provided configuration from /opt/ml/input/config/hyperparameters.json: {'feature_dim': '2', 'force_dense': 'True', 'k': '4'}\u001b[0m\n",
      "\u001b[34m[08/12/2022 21:59:27 INFO 139901186357056] Final configuration: {'init_method': 'random', 'mini_batch_size': '5000', 'epochs': '1', 'extra_center_factor': 'auto', 'local_lloyd_max_iter': '300', 'local_lloyd_tol': '0.0001', 'local_lloyd_init_method': 'kmeans++', 'local_lloyd_num_trials': 'auto', 'half_life_time_size': '0', 'eval_metrics': '[\"msd\"]', 'force_dense': 'True', '_disable_wait_to_read': 'false', '_enable_profiler': 'false', '_kvstore': 'auto', '_log_level': 'info', '_num_gpus': 'auto', '_num_kv_servers': '1', '_num_slices': '1', '_tuning_objective_metric': '', 'feature_dim': '2', 'k': '4'}\u001b[0m\n",
      "\u001b[34m[08/12/2022 21:59:29 WARNING 139901186357056] Loggers have already been setup.\u001b[0m\n",
      "\u001b[34m[08/12/2022 21:59:29 INFO 139901186357056] Final configuration: {'init_method': 'random', 'mini_batch_size': '5000', 'epochs': '1', 'extra_center_factor': 'auto', 'local_lloyd_max_iter': '300', 'local_lloyd_tol': '0.0001', 'local_lloyd_init_method': 'kmeans++', 'local_lloyd_num_trials': 'auto', 'half_life_time_size': '0', 'eval_metrics': '[\"msd\"]', 'force_dense': 'True', '_disable_wait_to_read': 'false', '_enable_profiler': 'false', '_kvstore': 'auto', '_log_level': 'info', '_num_gpus': 'auto', '_num_kv_servers': '1', '_num_slices': '1', '_tuning_objective_metric': '', 'feature_dim': '2', 'k': '4'}\u001b[0m\n",
      "\u001b[34m[08/12/2022 21:59:29 WARNING 139901186357056] Loggers have already been setup.\u001b[0m\n",
      "\u001b[34mProcess 1 is a worker.\u001b[0m\n",
      "\u001b[34m[08/12/2022 21:59:29 INFO 139901186357056] Using default worker.\u001b[0m\n",
      "\u001b[34m[08/12/2022 21:59:29 INFO 139901186357056] Loaded iterator creator application/x-recordio-protobuf for content type ('application/x-recordio-protobuf', '1.0')\u001b[0m\n",
      "\u001b[34m[08/12/2022 21:59:29 INFO 139901186357056] Create Store: local\u001b[0m\n",
      "\u001b[34m[08/12/2022 21:59:29 INFO 139901186357056] nvidia-smi: took 0.032 seconds to run.\u001b[0m\n",
      "\u001b[34m[08/12/2022 21:59:29 INFO 139901186357056] nvidia-smi identified 0 GPUs.\u001b[0m\n",
      "\u001b[34m[08/12/2022 21:59:29 INFO 139901186357056] Number of GPUs being used: 0\u001b[0m\n",
      "\u001b[34m[08/12/2022 21:59:29 INFO 139901186357056] Checkpoint loading and saving are disabled.\u001b[0m\n",
      "\u001b[34m[08/12/2022 21:59:29 INFO 139901186357056] Setting up with params: {'init_method': 'random', 'mini_batch_size': '5000', 'epochs': '1', 'extra_center_factor': 'auto', 'local_lloyd_max_iter': '300', 'local_lloyd_tol': '0.0001', 'local_lloyd_init_method': 'kmeans++', 'local_lloyd_num_trials': 'auto', 'half_life_time_size': '0', 'eval_metrics': '[\"msd\"]', 'force_dense': 'True', '_disable_wait_to_read': 'false', '_enable_profiler': 'false', '_kvstore': 'auto', '_log_level': 'info', '_num_gpus': 'auto', '_num_kv_servers': '1', '_num_slices': '1', '_tuning_objective_metric': '', 'feature_dim': '2', 'k': '4'}\u001b[0m\n",
      "\u001b[34m[08/12/2022 21:59:29 INFO 139901186357056] 'extra_center_factor' was set to 'auto', evaluated to 10.\u001b[0m\n",
      "\u001b[34m[08/12/2022 21:59:29 INFO 139901186357056] Number of GPUs being used: 0\u001b[0m\n",
      "\u001b[34m[08/12/2022 21:59:29 INFO 139901186357056] number of center slices 1\u001b[0m\n",
      "\u001b[34m[08/12/2022 21:59:29 WARNING 139901186357056] Batch size 5000 is bigger than the first batch data. Effective batch size used to initialize is 15\u001b[0m\n",
      "\u001b[34m#metrics {\"StartTime\": 1660341569.933966, \"EndTime\": 1660341569.9340062, \"Dimensions\": {\"Algorithm\": \"AWS/KMeansWebscale\", \"Host\": \"algo-1\", \"Operation\": \"training\", \"Meta\": \"init_train_data_iter\"}, \"Metrics\": {\"Total Records Seen\": {\"sum\": 15.0, \"count\": 1, \"min\": 15, \"max\": 15}, \"Total Batches Seen\": {\"sum\": 1.0, \"count\": 1, \"min\": 1, \"max\": 1}, \"Max Records Seen Between Resets\": {\"sum\": 15.0, \"count\": 1, \"min\": 15, \"max\": 15}, \"Max Batches Seen Between Resets\": {\"sum\": 1.0, \"count\": 1, \"min\": 1, \"max\": 1}, \"Reset Count\": {\"sum\": 0.0, \"count\": 1, \"min\": 0, \"max\": 0}, \"Number of Records Since Last Reset\": {\"sum\": 15.0, \"count\": 1, \"min\": 15, \"max\": 15}, \"Number of Batches Since Last Reset\": {\"sum\": 1.0, \"count\": 1, \"min\": 1, \"max\": 1}}}\u001b[0m\n",
      "\u001b[34m[2022-08-12 21:59:29.934] [tensorio] [info] epoch_stats={\"data_pipeline\": \"/opt/ml/input/data/train\", \"epoch\": 0, \"duration\": 21, \"num_examples\": 1, \"num_bytes\": 480}\u001b[0m\n",
      "\u001b[34m[2022-08-12 21:59:29.989] [tensorio] [info] epoch_stats={\"data_pipeline\": \"/opt/ml/input/data/train\", \"epoch\": 1, \"duration\": 54, \"num_examples\": 1, \"num_bytes\": 480}\u001b[0m\n",
      "\u001b[34m[08/12/2022 21:59:29 INFO 139901186357056] processed a total of 15 examples\u001b[0m\n",
      "\u001b[34m[08/12/2022 21:59:29 INFO 139901186357056] #progress_metric: host=algo-1, completed 100.0 % of epochs\u001b[0m\n",
      "\u001b[34m#metrics {\"StartTime\": 1660341569.9343996, \"EndTime\": 1660341569.9904323, \"Dimensions\": {\"Algorithm\": \"AWS/KMeansWebscale\", \"Host\": \"algo-1\", \"Operation\": \"training\", \"epoch\": 0, \"Meta\": \"training_data_iter\"}, \"Metrics\": {\"Total Records Seen\": {\"sum\": 30.0, \"count\": 1, \"min\": 30, \"max\": 30}, \"Total Batches Seen\": {\"sum\": 2.0, \"count\": 1, \"min\": 2, \"max\": 2}, \"Max Records Seen Between Resets\": {\"sum\": 15.0, \"count\": 1, \"min\": 15, \"max\": 15}, \"Max Batches Seen Between Resets\": {\"sum\": 1.0, \"count\": 1, \"min\": 1, \"max\": 1}, \"Reset Count\": {\"sum\": 1.0, \"count\": 1, \"min\": 1, \"max\": 1}, \"Number of Records Since Last Reset\": {\"sum\": 15.0, \"count\": 1, \"min\": 15, \"max\": 15}, \"Number of Batches Since Last Reset\": {\"sum\": 1.0, \"count\": 1, \"min\": 1, \"max\": 1}}}\u001b[0m\n",
      "\u001b[34m[08/12/2022 21:59:29 INFO 139901186357056] #throughput_metric: host=algo-1, train throughput=266.9219020466348 records/second\u001b[0m\n",
      "\u001b[34m[08/12/2022 21:59:29 WARNING 139901186357056] wait_for_all_workers will not sync workers since the kv store is not running distributed\u001b[0m\n",
      "\u001b[34m[08/12/2022 21:59:29 INFO 139901186357056] shrinking 40 centers into 4\u001b[0m\n",
      "\u001b[34m[08/12/2022 21:59:30 INFO 139901186357056] local kmeans attempt #0. Current mean square distance 0.265946\u001b[0m\n",
      "\u001b[34m[08/12/2022 21:59:30 INFO 139901186357056] local kmeans attempt #1. Current mean square distance 0.230389\u001b[0m\n",
      "\u001b[34m[08/12/2022 21:59:30 INFO 139901186357056] local kmeans attempt #2. Current mean square distance 0.230389\u001b[0m\n",
      "\u001b[34m[08/12/2022 21:59:30 INFO 139901186357056] local kmeans attempt #3. Current mean square distance 0.265946\u001b[0m\n",
      "\u001b[34m[08/12/2022 21:59:30 INFO 139901186357056] local kmeans attempt #4. Current mean square distance 0.266324\u001b[0m\n",
      "\u001b[34m[08/12/2022 21:59:30 INFO 139901186357056] local kmeans attempt #5. Current mean square distance 0.265946\u001b[0m\n",
      "\u001b[34m[08/12/2022 21:59:30 INFO 139901186357056] local kmeans attempt #6. Current mean square distance 0.230389\u001b[0m\n",
      "\u001b[34m[08/12/2022 21:59:30 INFO 139901186357056] local kmeans attempt #7. Current mean square distance 0.265946\u001b[0m\n",
      "\u001b[34m[08/12/2022 21:59:30 INFO 139901186357056] local kmeans attempt #8. Current mean square distance 0.243371\u001b[0m\n",
      "\u001b[34m[08/12/2022 21:59:30 INFO 139901186357056] local kmeans attempt #9. Current mean square distance 0.243371\u001b[0m\n",
      "\u001b[34m[08/12/2022 21:59:30 INFO 139901186357056] finished shrinking process. Mean Square Distance = 0\u001b[0m\n",
      "\u001b[34m[08/12/2022 21:59:30 INFO 139901186357056] #quality_metric: host=algo-1, train msd <loss>=0.23038920760154724\u001b[0m\n",
      "\u001b[34m[08/12/2022 21:59:30 INFO 139901186357056] compute all data-center distances: inner product took: 27.3717%, (0.017306 secs)\u001b[0m\n",
      "\u001b[34m[08/12/2022 21:59:30 INFO 139901186357056] gradient: cluster center took: 22.8466%, (0.014445 secs)\u001b[0m\n",
      "\u001b[34m[08/12/2022 21:59:30 INFO 139901186357056] collect from kv store took: 11.6803%, (0.007385 secs)\u001b[0m\n",
      "\u001b[34m[08/12/2022 21:59:30 INFO 139901186357056] splitting centers key-value pair took: 11.4084%, (0.007213 secs)\u001b[0m\n",
      "\u001b[34m[08/12/2022 21:59:30 INFO 139901186357056] gradient: one_hot took: 7.1575%, (0.004525 secs)\u001b[0m\n",
      "\u001b[34m[08/12/2022 21:59:30 INFO 139901186357056] predict compute msd took: 6.3619%, (0.004022 secs)\u001b[0m\n",
      "\u001b[34m[08/12/2022 21:59:30 INFO 139901186357056] compute all data-center distances: point norm took: 5.9188%, (0.003742 secs)\u001b[0m\n",
      "\u001b[34m[08/12/2022 21:59:30 INFO 139901186357056] batch data loading with context took: 3.3372%, (0.002110 secs)\u001b[0m\n",
      "\u001b[34m[08/12/2022 21:59:30 INFO 139901186357056] update state and report convergance took: 2.4126%, (0.001525 secs)\u001b[0m\n",
      "\u001b[34m[08/12/2022 21:59:30 INFO 139901186357056] compute all data-center distances: center norm took: 0.6380%, (0.000403 secs)\u001b[0m\n",
      "\u001b[34m[08/12/2022 21:59:30 INFO 139901186357056] update set-up time took: 0.5901%, (0.000373 secs)\u001b[0m\n",
      "\u001b[34m[08/12/2022 21:59:30 INFO 139901186357056] gradient: cluster size  took: 0.2462%, (0.000156 secs)\u001b[0m\n",
      "\u001b[34m[08/12/2022 21:59:30 INFO 139901186357056] predict minus dist took: 0.0305%, (0.000019 secs)\u001b[0m\n",
      "\u001b[34m[08/12/2022 21:59:30 INFO 139901186357056] TOTAL took: 0.06322622299194336\u001b[0m\n",
      "\u001b[34m[08/12/2022 21:59:30 INFO 139901186357056] Number of GPUs being used: 0\u001b[0m\n",
      "\u001b[34m#metrics {\"StartTime\": 1660341569.9123676, \"EndTime\": 1660341570.1767564, \"Dimensions\": {\"Algorithm\": \"AWS/KMeansWebscale\", \"Host\": \"algo-1\", \"Operation\": \"training\"}, \"Metrics\": {\"initialize.time\": {\"sum\": 17.457008361816406, \"count\": 1, \"min\": 17.457008361816406, \"max\": 17.457008361816406}, \"epochs\": {\"sum\": 1.0, \"count\": 1, \"min\": 1, \"max\": 1}, \"update.time\": {\"sum\": 55.812835693359375, \"count\": 1, \"min\": 55.812835693359375, \"max\": 55.812835693359375}, \"_shrink.time\": {\"sum\": 182.39641189575195, \"count\": 1, \"min\": 182.39641189575195, \"max\": 182.39641189575195}, \"finalize.time\": {\"sum\": 184.39483642578125, \"count\": 1, \"min\": 184.39483642578125, \"max\": 184.39483642578125}, \"model.serialize.time\": {\"sum\": 1.486063003540039, \"count\": 1, \"min\": 1.486063003540039, \"max\": 1.486063003540039}}}\u001b[0m\n",
      "\u001b[34m[08/12/2022 21:59:30 INFO 139901186357056] Test data is not provided.\u001b[0m\n",
      "\u001b[34m#metrics {\"StartTime\": 1660341570.1768966, \"EndTime\": 1660341570.177183, \"Dimensions\": {\"Algorithm\": \"AWS/KMeansWebscale\", \"Host\": \"algo-1\", \"Operation\": \"training\"}, \"Metrics\": {\"setuptime\": {\"sum\": 5.993127822875977, \"count\": 1, \"min\": 5.993127822875977, \"max\": 5.993127822875977}, \"totaltime\": {\"sum\": 328.6261558532715, \"count\": 1, \"min\": 328.6261558532715, \"max\": 328.6261558532715}}}\u001b[0m\n",
      "\n",
      "2022-08-12 21:59:50 Uploading - Uploading generated training model\n",
      "2022-08-12 21:59:50 Completed - Training job completed\n",
      "Training seconds: 92\n",
      "Billable seconds: 92\n"
     ]
    }
   ],
   "source": [
    "km.fit(km.record_set(base_salario))"
   ]
  },
  {
   "cell_type": "code",
   "execution_count": 39,
   "metadata": {},
   "outputs": [
    {
     "name": "stderr",
     "output_type": "stream",
     "text": [
      "Defaulting to the only supported framework/algorithm version: 1. Ignoring framework/algorithm version: 1.\n"
     ]
    },
    {
     "name": "stdout",
     "output_type": "stream",
     "text": [
      "------!"
     ]
    }
   ],
   "source": [
    "km_p = km.deploy(initial_instance_count=1,instance_type='ml.c4.xlarge')"
   ]
  },
  {
   "cell_type": "code",
   "execution_count": 58,
   "metadata": {},
   "outputs": [],
   "source": [
    "test = np.array([[10 ,2000]])\n",
    "\n"
   ]
  },
  {
   "cell_type": "code",
   "execution_count": 59,
   "metadata": {},
   "outputs": [],
   "source": [
    "rr = km_p.predict(test.astype('float32'))"
   ]
  },
  {
   "cell_type": "code",
   "execution_count": 60,
   "metadata": {},
   "outputs": [
    {
     "data": {
      "text/plain": [
       "[1.0]"
      ]
     },
     "execution_count": 60,
     "metadata": {},
     "output_type": "execute_result"
    }
   ],
   "source": [
    "rot = []\n",
    "[r.label['closest_cluster'].float32_tensor.values[0] for r in rr]"
   ]
  },
  {
   "cell_type": "code",
   "execution_count": 61,
   "metadata": {},
   "outputs": [],
   "source": [
    "km_p.delete_endpoint()"
   ]
  }
 ],
 "metadata": {
  "kernelspec": {
   "display_name": "Python 3 (Data Science)",
   "language": "python",
   "name": "python3__SAGEMAKER_INTERNAL__arn:aws:sagemaker:sa-east-1:782484402741:image/datascience-1.0"
  },
  "language_info": {
   "codemirror_mode": {
    "name": "ipython",
    "version": 3
   },
   "file_extension": ".py",
   "mimetype": "text/x-python",
   "name": "python",
   "nbconvert_exporter": "python",
   "pygments_lexer": "ipython3",
   "version": "3.7.10"
  }
 },
 "nbformat": 4,
 "nbformat_minor": 4
}
