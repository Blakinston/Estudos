{
 "cells": [
  {
   "cell_type": "code",
   "execution_count": 2,
   "metadata": {},
   "outputs": [],
   "source": [
    "import numpy as np \n",
    "import pandas as  pd \n",
    "import boto3  # servicos para aws \n",
    "from sagemaker import Session # sessao \n",
    "import sagemaker.amazon.common as smac \n",
    "from sagemaker.serializers import CSVSerializer\n",
    "from sagemaker.inputs import TrainingInput\n",
    "import os,io\n",
    "import seaborn as sn\n",
    "%matplotlib inline\n",
    "import matplotlib.pyplot as plt \n"
   ]
  },
  {
   "cell_type": "markdown",
   "metadata": {},
   "source": [
    "### Configuracoes ambiente"
   ]
  },
  {
   "cell_type": "code",
   "execution_count": 3,
   "metadata": {},
   "outputs": [],
   "source": [
    "import sagemaker\n",
    "sessao      = boto3.resource('s3')# sessao do s3, servico\n",
    "ses         = sagemaker.Session() # sessai so sagemaker\n",
    "bucket      = \"regressao\" # bucket onde irei armazenar os dados\n",
    "pasta_mod   = 'modelo/regressao2' #pasta do modelo \n",
    "pasta_dados = 'modelo/src2' # dados do modelo \n",
    "reg = sagemaker.get_execution_role()\n"
   ]
  },
  {
   "cell_type": "code",
   "execution_count": 12,
   "metadata": {},
   "outputs": [],
   "source": [
    "from sklearn.model_selection import train_test_split\n",
    "from sklearn.preprocessing import StandardScaler\n",
    "\n",
    "d_credit = pd.read_excel('credito.xlsx')\n",
    "\n",
    "x = d_credit.iloc[:,0:4].values.astype('float32')\n",
    "y = d_credit.iloc[:,4].values.astype('float32')\n",
    "\n",
    "sc = StandardScaler()\n",
    "x_nv = sc.fit_transform(x)\n",
    "x_train,x_test,y_train,y_test = train_test_split(x_nv,y,\n",
    "                                                 test_size=0.3,\n",
    "                                                 random_state=42)"
   ]
  },
  {
   "cell_type": "code",
   "execution_count": 13,
   "metadata": {},
   "outputs": [
    {
     "data": {
      "text/plain": [
       "array([[ 0.74535596, -0.8291554 ,  0.6546537 , -0.75532717],\n",
       "       [ 0.74535596, -0.2752463 ,  0.6546537 , -0.74497545],\n",
       "       [ 0.74535596,  0.2786628 ,  0.6546537 ,  0.40743127],\n",
       "       [ 0.74535596,  0.83257186,  0.6546537 ,  0.798468  ],\n",
       "       [ 0.74535596,  1.3864809 ,  0.6546537 ,  1.3798472 ],\n",
       "       [ 0.74535596,  1.94039   ,  0.6546537 ,  1.9612265 ],\n",
       "       [-1.4907119 , -0.8381991 , -1.5275252 , -0.76283216],\n",
       "       [-1.4907119 , -0.8291554 , -1.5275252 , -0.7610206 ],\n",
       "       [-1.4907119 , -0.8291554 , -1.5275252 , -0.76050305],\n",
       "       [ 0.        , -0.8371942 ,  0.6546537 , -0.76231456]],\n",
       "      dtype=float32)"
      ]
     },
     "execution_count": 13,
     "metadata": {},
     "output_type": "execute_result"
    }
   ],
   "source": [
    "x_nv"
   ]
  },
  {
   "cell_type": "code",
   "execution_count": 14,
   "metadata": {},
   "outputs": [],
   "source": [
    "\n",
    "np.savez('./dados/train',image=x_train,label=y_train) # salvando dados de treino \n",
    "np.savez('./dados/test',image=x_test,label=y_test)   # salvando dados de teste"
   ]
  },
  {
   "cell_type": "code",
   "execution_count": 15,
   "metadata": {},
   "outputs": [],
   "source": [
    "from sagemaker.s3 import S3Uploader\n",
    "\n",
    "loc_train = os.path.join('s3://',bucket,pasta_dados)\n",
    "loc_test  = os.path.join('s3://',bucket,pasta_dados)\n",
    "train_path = S3Uploader.upload('./dados/train.npz',loc_train)\n",
    "test_path = S3Uploader.upload('./dados/test.npz',loc_train)"
   ]
  },
  {
   "cell_type": "code",
   "execution_count": 18,
   "metadata": {},
   "outputs": [
    {
     "ename": "AttributeError",
     "evalue": "'s3.ServiceResource' object has no attribute 'region_name'",
     "output_type": "error",
     "traceback": [
      "\u001b[0;31m---------------------------------------------------------------------------\u001b[0m",
      "\u001b[0;31mAttributeError\u001b[0m                            Traceback (most recent call last)",
      "\u001b[0;32m<ipython-input-18-c84c69c14254>\u001b[0m in \u001b[0;36m<module>\u001b[0;34m\u001b[0m\n\u001b[0;32m----> 1\u001b[0;31m container = sagemaker.image_uris.retrieve(region=sessao.region_name,\n\u001b[0m\u001b[1;32m      2\u001b[0m                                          framework='xgboost')\n",
      "\u001b[0;31mAttributeError\u001b[0m: 's3.ServiceResource' object has no attribute 'region_name'"
     ]
    }
   ],
   "source": [
    "container = sagemaker.image_uris.retrieve(region=sessao.region_name,\n",
    "                                         framework='xgboost')"
   ]
  },
  {
   "cell_type": "code",
   "execution_count": 7,
   "metadata": {},
   "outputs": [
    {
     "ename": "TypeError",
     "evalue": "__init__() missing 2 required positional arguments: 'image_uri' and 'role'",
     "output_type": "error",
     "traceback": [
      "\u001b[0;31m---------------------------------------------------------------------------\u001b[0m",
      "\u001b[0;31mTypeError\u001b[0m                                 Traceback (most recent call last)",
      "\u001b[0;32m<ipython-input-7-a2465817aa8b>\u001b[0m in \u001b[0;36m<module>\u001b[0;34m\u001b[0m\n\u001b[0;32m----> 1\u001b[0;31m \u001b[0msagemaker\u001b[0m\u001b[0;34m.\u001b[0m\u001b[0mestimator\u001b[0m\u001b[0;34m.\u001b[0m\u001b[0mEstimator\u001b[0m\u001b[0;34m(\u001b[0m\u001b[0;34m)\u001b[0m\u001b[0;34m\u001b[0m\u001b[0;34m\u001b[0m\u001b[0m\n\u001b[0m\u001b[1;32m      2\u001b[0m \u001b[0;34m\u001b[0m\u001b[0m\n",
      "\u001b[0;31mTypeError\u001b[0m: __init__() missing 2 required positional arguments: 'image_uri' and 'role'"
     ]
    }
   ],
   "source": [
    "sagemaker.estimator.Estimator(image_uri=cona)\n",
    "\n"
   ]
  }
 ],
 "metadata": {
  "instance_type": "ml.t3.medium",
  "kernelspec": {
   "display_name": "Python 3 (Data Science)",
   "language": "python",
   "name": "python3__SAGEMAKER_INTERNAL__arn:aws:sagemaker:sa-east-1:782484402741:image/datascience-1.0"
  },
  "language_info": {
   "codemirror_mode": {
    "name": "ipython",
    "version": 3
   },
   "file_extension": ".py",
   "mimetype": "text/x-python",
   "name": "python",
   "nbconvert_exporter": "python",
   "pygments_lexer": "ipython3",
   "version": "3.7.10"
  }
 },
 "nbformat": 4,
 "nbformat_minor": 4
}
