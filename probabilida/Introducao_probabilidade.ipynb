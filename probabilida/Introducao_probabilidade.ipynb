{
 "cells": [
  {
   "cell_type": "markdown",
   "id": "43a38254",
   "metadata": {},
   "source": [
    "Probabilidades"
   ]
  },
  {
   "cell_type": "code",
   "execution_count": 1,
   "id": "26859d4e",
   "metadata": {},
   "outputs": [],
   "source": [
    "import pandas as pd \n",
    "import numpy as np\n",
    " "
   ]
  },
  {
   "cell_type": "markdown",
   "id": "ff1c39e6",
   "metadata": {},
   "source": [
    "probabilidade e  entre 0 e 1 <br><br>\n",
    "espaco amostral: todas as possibilidades de ocorencia de evento <br><br>\n",
    "evento reultados ocorrido <br><br>\n",
    "experimento: jogar moeda  \n"
   ]
  },
  {
   "cell_type": "markdown",
   "id": "cee66ae0",
   "metadata": {},
   "source": [
    "Tipos de Eventos<br>"
   ]
  },
  {
   "cell_type": "markdown",
   "id": "fdbe17c8",
   "metadata": {},
   "source": [
    "Excludentes: quando nao podem ocorrer ao mesmo tempo<br>\n",
    "Exemplo: jogar um dado ser 1 e par <br><br>\n",
    "    \n",
    "Nao Excludentes:  quando podem ocorrer ao mesmo tempo  \n",
    "Exemplo: jogar um dado ser 2 e par <br>"
   ]
  },
  {
   "cell_type": "markdown",
   "id": "ee35fd4e",
   "metadata": {},
   "source": [
    "<b>Dependentes:</b> A ocorrencia de um evento afeta outro, um deve ocorrer para o outro ocorrer <br>\n",
    "<b>Independentes:</b> A cocorrencia de um evento nao afeta o outro"
   ]
  },
  {
   "cell_type": "markdown",
   "id": "410dc7a1",
   "metadata": {},
   "source": [
    "Jogar uma moeda e dar cara "
   ]
  },
  {
   "cell_type": "code",
   "execution_count": 2,
   "id": "1f5d92b7",
   "metadata": {},
   "outputs": [
    {
     "data": {
      "text/plain": [
       "0.5"
      ]
     },
     "execution_count": 2,
     "metadata": {},
     "output_type": "execute_result"
    }
   ],
   "source": [
    "1/2"
   ]
  },
  {
   "cell_type": "markdown",
   "id": "79e1f4cb",
   "metadata": {},
   "source": [
    "jogar dado e dar 6: 1/6"
   ]
  },
  {
   "cell_type": "code",
   "execution_count": 3,
   "id": "7569c477",
   "metadata": {},
   "outputs": [
    {
     "data": {
      "text/plain": [
       "0.16666666666666666"
      ]
     },
     "execution_count": 3,
     "metadata": {},
     "output_type": "execute_result"
    }
   ],
   "source": [
    "1/6"
   ]
  },
  {
   "cell_type": "markdown",
   "id": "e0ed3989",
   "metadata": {},
   "source": [
    "eventos excludentes: jogar o dado ser 1 ou par "
   ]
  },
  {
   "cell_type": "code",
   "execution_count": 4,
   "id": "aadbc911",
   "metadata": {},
   "outputs": [
    {
     "data": {
      "text/plain": [
       "0.6666666666666666"
      ]
     },
     "execution_count": 4,
     "metadata": {},
     "output_type": "execute_result"
    }
   ],
   "source": [
    "# ser 1 temos 1  possibilidade \n",
    "# par temos 3 posibilidades\n",
    "# espaco amostral e 6\n",
    "1/6+3/6"
   ]
  },
  {
   "cell_type": "markdown",
   "id": "ddb4d569",
   "metadata": {},
   "source": [
    "Eventos independetes"
   ]
  },
  {
   "cell_type": "markdown",
   "id": "a542b764",
   "metadata": {},
   "source": [
    "jogar dois dados dar 1 e 6, um nao influencia no outro"
   ]
  },
  {
   "cell_type": "code",
   "execution_count": 1,
   "id": "52bab1e7",
   "metadata": {},
   "outputs": [
    {
     "data": {
      "text/plain": [
       "0.027777777777777776"
      ]
     },
     "execution_count": 1,
     "metadata": {},
     "output_type": "execute_result"
    }
   ],
   "source": [
    "1/6* 1/6"
   ]
  },
  {
   "cell_type": "markdown",
   "id": "a7b91447",
   "metadata": {},
   "source": [
    "Eventos dependentes "
   ]
  },
  {
   "cell_type": "markdown",
   "id": "165a687c",
   "metadata": {},
   "source": [
    "<b>(conjunto 1,7,5,33,8,10)</b><br>\n",
    "com 6 numeros qual a probabilidade de primeiro evento tirar 5 e no segundo evento tirar 33 e an terceira 7<br>\n"
   ]
  },
  {
   "cell_type": "code",
   "execution_count": 5,
   "id": "9589b8df",
   "metadata": {},
   "outputs": [
    {
     "data": {
      "text/plain": [
       "0.0047619047619047615"
      ]
     },
     "execution_count": 5,
     "metadata": {},
     "output_type": "execute_result"
    }
   ],
   "source": [
    "1/6 * 1/5 *1/7"
   ]
  },
  {
   "cell_type": "code",
   "execution_count": 1,
   "id": "eb77b716",
   "metadata": {},
   "outputs": [],
   "source": [
    "import numpy as np \n",
    "import math\n",
    "import scipy as sc\n"
   ]
  },
  {
   "cell_type": "markdown",
   "id": "8b3915b4",
   "metadata": {},
   "source": [
    " permutação: numero de combinações\n"
   ]
  },
  {
   "cell_type": "markdown",
   "id": "1f19b65e",
   "metadata": {},
   "source": [
    "quais as permutacoes possivesi com 1,2,3<br>\n",
    "123,213,321,231,132,312"
   ]
  },
  {
   "cell_type": "code",
   "execution_count": 6,
   "id": "a1065d45",
   "metadata": {},
   "outputs": [
    {
     "data": {
      "text/plain": [
       "6"
      ]
     },
     "execution_count": 6,
     "metadata": {},
     "output_type": "execute_result"
    }
   ],
   "source": [
    "# permutacao\n",
    "math.factorial(3)"
   ]
  },
  {
   "cell_type": "code",
   "execution_count": 7,
   "id": "d9d536ce",
   "metadata": {},
   "outputs": [
    {
     "data": {
      "text/plain": [
       "403291461126605635584000000"
      ]
     },
     "execution_count": 7,
     "metadata": {},
     "output_type": "execute_result"
    }
   ],
   "source": [
    "math.factorial(26)"
   ]
  },
  {
   "cell_type": "code",
   "execution_count": null,
   "id": "69df4eae",
   "metadata": {},
   "outputs": [],
   "source": [
    "# criacao de uma senha com 5caracteres\n",
    "# composta por letras e numeros \n",
    "# nao podemos repitir as letras \n",
    "# 26 letras + 10 digitos "
   ]
  },
  {
   "cell_type": "markdown",
   "id": "a083ebe7",
   "metadata": {},
   "source": [
    "Eevento : 5 caracteres<br>\n",
    "espacao amostral: 26 letras+10digitos =36 <br>\n",
    "    "
   ]
  },
  {
   "cell_type": "code",
   "execution_count": 9,
   "id": "3017dbb1",
   "metadata": {},
   "outputs": [
    {
     "data": {
      "text/plain": [
       "45239040.0"
      ]
     },
     "execution_count": 9,
     "metadata": {},
     "output_type": "execute_result"
    }
   ],
   "source": [
    "# sem reposicao \n",
    "esp_amst =36\n",
    "evento = 5 \n",
    "math.factorial(esp_amst) / math.factorial(esp_amst-evento)"
   ]
  },
  {
   "cell_type": "code",
   "execution_count": 12,
   "id": "a67c9320",
   "metadata": {},
   "outputs": [
    {
     "data": {
      "text/plain": [
       "60466176"
      ]
     },
     "execution_count": 12,
     "metadata": {},
     "output_type": "execute_result"
    }
   ],
   "source": [
    "# com repeticao \n",
    "# n^r: exponecial \n",
    "esp_amst**evento"
   ]
  },
  {
   "cell_type": "markdown",
   "id": "c3169ae0",
   "metadata": {},
   "source": [
    "# combinação"
   ]
  },
  {
   "cell_type": "code",
   "execution_count": 20,
   "id": "38b0f149",
   "metadata": {},
   "outputs": [
    {
     "data": {
      "text/plain": [
       "15.0"
      ]
     },
     "execution_count": 20,
     "metadata": {},
     "output_type": "execute_result"
    }
   ],
   "source": [
    "# nao se importa com a ordem \n",
    "# sem reposicao\n",
    "# 6 letras abcdef: espaco amostral\n",
    "# combinacoes de 2 letras , evento\n",
    "\n",
    "eve = 2 \n",
    "esp = 6\n",
    "math.factorial(esp) /(math.factorial(eve)*math.factorial(esp-eve))"
   ]
  },
  {
   "cell_type": "code",
   "execution_count": 25,
   "id": "3c85c5c2",
   "metadata": {},
   "outputs": [
    {
     "data": {
      "text/plain": [
       "21.0"
      ]
     },
     "execution_count": 25,
     "metadata": {},
     "output_type": "execute_result"
    }
   ],
   "source": [
    "math.factorial(esp+eve-1) /(math.factorial(eve)*math.factorial(esp-1))"
   ]
  },
  {
   "cell_type": "markdown",
   "id": "13e272f5",
   "metadata": {},
   "source": [
    "# Conjuntos "
   ]
  },
  {
   "cell_type": "markdown",
   "id": "05f78010",
   "metadata": {},
   "source": [
    "Intersecção"
   ]
  },
  {
   "cell_type": "code",
   "execution_count": 52,
   "id": "6cfd5d66",
   "metadata": {},
   "outputs": [
    {
     "data": {
      "text/plain": [
       "0.4444444444444444"
      ]
     },
     "execution_count": 52,
     "metadata": {},
     "output_type": "execute_result"
    }
   ],
   "source": [
    "a = {1,5,3,7,2,6,4,0}\n",
    "b = {2,4,6,0,8}\n",
    "# elementos no total dos dois conjuntos \n",
    "# interseccao de 4 elementos \n",
    "# intersessao desses contutos  e de 44 % \n",
    "len(a&b)/9"
   ]
  },
  {
   "cell_type": "code",
   "execution_count": 66,
   "id": "b5407981",
   "metadata": {},
   "outputs": [
    {
     "data": {
      "text/plain": [
       "{0, 2, 4, 6, 8}"
      ]
     },
     "execution_count": 66,
     "metadata": {},
     "output_type": "execute_result"
    }
   ],
   "source": [
    "set(a) and set(b)"
   ]
  },
  {
   "cell_type": "markdown",
   "id": "65730578",
   "metadata": {},
   "source": [
    "uniao"
   ]
  },
  {
   "cell_type": "code",
   "execution_count": 34,
   "id": "ef16fcc5",
   "metadata": {
    "scrolled": true
   },
   "outputs": [
    {
     "data": {
      "text/plain": [
       "1.0"
      ]
     },
     "execution_count": 34,
     "metadata": {},
     "output_type": "execute_result"
    }
   ],
   "source": [
    "# probabilidade alta pois somente um elementos nao faz parte de b \n",
    "(len(a)/9 + len(b)/9) - len(a&b)/9"
   ]
  },
  {
   "cell_type": "code",
   "execution_count": 68,
   "id": "6caf2391",
   "metadata": {},
   "outputs": [
    {
     "data": {
      "text/plain": [
       "{0, 1, 2, 3, 4, 5, 6, 7, 8}"
      ]
     },
     "execution_count": 68,
     "metadata": {},
     "output_type": "execute_result"
    }
   ],
   "source": [
    "set(a) | set(b)"
   ]
  },
  {
   "cell_type": "markdown",
   "id": "3bed4fa9",
   "metadata": {},
   "source": [
    "Complementoto: diferenca"
   ]
  },
  {
   "cell_type": "code",
   "execution_count": 63,
   "id": "bc3bd6f3",
   "metadata": {},
   "outputs": [
    {
     "data": {
      "text/plain": [
       "0.11111111111111116"
      ]
     },
     "execution_count": 63,
     "metadata": {},
     "output_type": "execute_result"
    }
   ],
   "source": [
    "# a-b\n",
    "# estao em a mas nao em b\n",
    "\n",
    "p_a = 1-(len(a)/9)\n",
    "p_a"
   ]
  },
  {
   "cell_type": "code",
   "execution_count": 65,
   "id": "4e309045",
   "metadata": {},
   "outputs": [
    {
     "data": {
      "text/plain": [
       "0.4444444444444444"
      ]
     },
     "execution_count": 65,
     "metadata": {},
     "output_type": "execute_result"
    }
   ],
   "source": [
    "p_b = 1-(len(b)/9)\n",
    "p_b"
   ]
  },
  {
   "cell_type": "code",
   "execution_count": 69,
   "id": "5788eb20",
   "metadata": {},
   "outputs": [
    {
     "data": {
      "text/plain": [
       "{1, 3, 5, 7}"
      ]
     },
     "execution_count": 69,
     "metadata": {},
     "output_type": "execute_result"
    }
   ],
   "source": [
    "# esta em a mas nao em b\n",
    "set(a).difference(set(b))"
   ]
  },
  {
   "cell_type": "code",
   "execution_count": 71,
   "id": "1d89e803",
   "metadata": {},
   "outputs": [
    {
     "data": {
      "text/plain": [
       "{8}"
      ]
     },
     "execution_count": 71,
     "metadata": {},
     "output_type": "execute_result"
    }
   ],
   "source": [
    "# esta em b mas nao em a \n",
    "set(b).difference(set(a))"
   ]
  },
  {
   "cell_type": "markdown",
   "id": "87b583fe",
   "metadata": {},
   "source": [
    "## Probabilidade condicional "
   ]
  },
  {
   "cell_type": "markdown",
   "id": "3778eeca",
   "metadata": {},
   "source": [
    "Probabilidade do evento A dado que o evento B ocorreu "
   ]
  },
  {
   "cell_type": "markdown",
   "id": "27e0e2f7",
   "metadata": {},
   "source": [
    "p(a-Intersccao-B)/p(b)"
   ]
  },
  {
   "cell_type": "markdown",
   "id": "bacfb962",
   "metadata": {},
   "source": [
    "1000 consumidores -> 650 master, 550 visa, 200 ambas"
   ]
  },
  {
   "cell_type": "markdown",
   "id": "a6c87285",
   "metadata": {},
   "source": [
    "p(master|visa): 200/550, embaixo condicao em cima interscao"
   ]
  },
  {
   "cell_type": "markdown",
   "id": "5dd535b3",
   "metadata": {},
   "source": [
    "p(master|visa): 200/550 -> 4/11"
   ]
  },
  {
   "cell_type": "markdown",
   "id": "3796dbba",
   "metadata": {},
   "source": [
    "### Dado viciado"
   ]
  },
  {
   "cell_type": "markdown",
   "id": "bf32b16a",
   "metadata": {},
   "source": [
    "quando a tendencia de um valor sair mais q outro"
   ]
  }
 ],
 "metadata": {
  "kernelspec": {
   "display_name": "Python 3.9.12 ('base')",
   "language": "python",
   "name": "python3"
  },
  "language_info": {
   "codemirror_mode": {
    "name": "ipython",
    "version": 3
   },
   "file_extension": ".py",
   "mimetype": "text/x-python",
   "name": "python",
   "nbconvert_exporter": "python",
   "pygments_lexer": "ipython3",
   "version": "3.9.12"
  },
  "vscode": {
   "interpreter": {
    "hash": "4f8615f1cda2a11f782ba972b5b6f6f9848cdfdc733b0cbafbbc9a871cc9c72c"
   }
  }
 },
 "nbformat": 4,
 "nbformat_minor": 5
}
