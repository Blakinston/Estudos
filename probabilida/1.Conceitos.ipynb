{
 "cells": [
  {
   "cell_type": "code",
   "execution_count": null,
   "metadata": {},
   "outputs": [],
   "source": [
    "Espaco amostral: "
   ]
  }
 ],
 "metadata": {
  "kernelspec": {
   "display_name": "Python 3.9.12 ('base')",
   "language": "python",
   "name": "python3"
  },
  "language_info": {
   "name": "python",
   "version": "3.9.12"
  },
  "orig_nbformat": 4,
  "vscode": {
   "interpreter": {
    "hash": "4f8615f1cda2a11f782ba972b5b6f6f9848cdfdc733b0cbafbbc9a871cc9c72c"
   }
  }
 },
 "nbformat": 4,
 "nbformat_minor": 2
}
