{
 "cells": [
  {
   "cell_type": "markdown",
   "metadata": {},
   "source": [
    "Vetores: sao grandezas grandeza <br>\n",
    "modulo: valor, intensidade,tamanho<br>\n",
    "direcao: horizontal,vertical,inclinada.. <br>\n",
    "sentido: direita, esquerda,norte ..."
   ]
  },
  {
   "cell_type": "markdown",
   "metadata": {},
   "source": [
    "Escalar: so precisa do seu valor para representar grandeza, tempo, massa, tamanho<br>"
   ]
  },
  {
   "cell_type": "markdown",
   "metadata": {},
   "source": [
    "vetores de  duas dimensoes sao chamados de r2(x,y)<br>\n"
   ]
  },
  {
   "cell_type": "code",
   "execution_count": 15,
   "metadata": {},
   "outputs": [],
   "source": [
    "import numpy as np\n",
    "import matplotlib.pyplot as plt \n",
    "\n",
    "\n",
    "v = np.linspace(1,-3,4)\n",
    "v\n",
    "v2= v*2"
   ]
  },
  {
   "cell_type": "code",
   "execution_count": 16,
   "metadata": {},
   "outputs": [
    {
     "data": {
      "text/plain": [
       "array([ 2.        , -0.66666667, -3.33333333, -6.        ])"
      ]
     },
     "execution_count": 16,
     "metadata": {},
     "output_type": "execute_result"
    }
   ],
   "source": [
    "v2"
   ]
  },
  {
   "cell_type": "code",
   "execution_count": 25,
   "metadata": {},
   "outputs": [
    {
     "data": {
      "text/plain": [
       "(-4.0, 4.0)"
      ]
     },
     "execution_count": 25,
     "metadata": {},
     "output_type": "execute_result"
    },
    {
     "data": {
      "image/png": "[encoded data removed]",
      "text/plain": [
       "<Figure size 720x720 with 1 Axes>"
      ]
     },
     "metadata": {
      "needs_background": "light"
     },
     "output_type": "display_data"
    }
   ],
   "source": [
    "import numpy as np\n",
    "import matplotlib.pyplot as plt\n",
    "from mpl_toolkits.axisartist import SubplotZero\n",
    "\n",
    "def graph_vectors(vecs, cols, alpha=1):\n",
    "    plt.figure(figsize=(10,10))\n",
    "    plt.axvline(x=0, color='black', zorder=0)\n",
    "    plt.axhline(y=0, color='black', zorder=0)\n",
    "    plt.ylabel('Y-axis')\n",
    "    plt.xlabel('X-axis')\n",
    "    for i in range(len(vecs)):\n",
    "        x = np.concatenate([[0,0], vecs[i]])\n",
    "        plt.quiver(\n",
    "            [x[0]],\n",
    "            [x[1]],\n",
    "            [x[2]],\n",
    "            [x[3]],\n",
    "            angles='xy', scale_units='xy', scale=1, color=cols[i], alpha=alpha)\n",
    "\n",
    "graph_vectors([v2],['orange'])\n",
    "plt.xlim(-4, 4)\n",
    "plt.ylim(-4, 4)"
   ]
  },
  {
   "cell_type": "markdown",
   "metadata": {},
   "source": [
    "r3: z da profundidade ao vetor<br>\n"
   ]
  },
  {
   "cell_type": "markdown",
   "metadata": {},
   "source": [
    "Soma vetor geometrico: se da colocando ele no final do seu sentido"
   ]
  },
  {
   "cell_type": "markdown",
   "metadata": {},
   "source": [
    "R = d1+d2 , nos mesmo sentido e sidrecao somamos normal"
   ]
  },
  {
   "cell_type": "markdown",
   "metadata": {},
   "source": [
    "y e x, chamamos de Vy, Vx,"
   ]
  },
  {
   "cell_type": "markdown",
   "metadata": {},
   "source": [
    "### Tipos de Vetores"
   ]
  },
  {
   "cell_type": "markdown",
   "metadata": {},
   "source": [
    "vetor nulo: vetor com sesus valores iguais a zero, tudo zero: v=(0,0) <br>\n",
    "Vetor Simétrico ou oposto: contem mesmo modulo e direcao apenas sentidos opostos: v1(8,9) e v2(-8,-9)  <br>"
   ]
  },
  {
   "cell_type": "code",
   "execution_count": 18,
   "metadata": {},
   "outputs": [
    {
     "data": {
      "text/plain": [
       "(-4.0, 4.0)"
      ]
     },
     "execution_count": 18,
     "metadata": {},
     "output_type": "execute_result"
    },
    {
     "data": {
      "image/png": "[encoded data removed]",
      "text/plain": [
       "<Figure size 648x504 with 1 Axes>"
      ]
     },
     "metadata": {
      "needs_background": "light"
     },
     "output_type": "display_data"
    }
   ],
   "source": [
    "# vetor simetrico \n",
    "# sentido e diferente no v2, sentido para baixo \n",
    "v1 = np.array([2,3])\n",
    "v2 = np.array([-2,-3])\n",
    "nulo = np.array([0,0]) # vetor nulo nao tem direcao nem sentido\n",
    "graph_vectors([v1,v2,nulo],['orange','green','red'])\n",
    "plt.xlim(-4, 4)\n",
    "plt.ylim(-4, 4)"
   ]
  },
  {
   "cell_type": "markdown",
   "metadata": {},
   "source": [
    "Unitario: modulo é 1<br>\n",
    "Colineares: dois vetores tem a mesma direcao pertencendo a mesma reta, paralelos "
   ]
  },
  {
   "cell_type": "markdown",
   "metadata": {},
   "source": [
    "coplanares: dois vetores fazem parte do mesmo plano "
   ]
  },
  {
   "cell_type": "markdown",
   "metadata": {},
   "source": [
    "### decompósicao"
   ]
  },
  {
   "cell_type": "markdown",
   "metadata": {},
   "source": [
    "Decompor o vetor e encontrar suas componentes, Pares ordenados para R2, R3 , pares ordenados+profundidade<br>\n",
    "para chegar por exemplo em V = (8,6), preciso de um anfgulo alpha de 36.87 graus"
   ]
  },
  {
   "cell_type": "markdown",
   "metadata": {},
   "source": [
    "tamanho do vetor, dado pelo teorema de pitagoras<br>\n",
    "$V^2 =Vx^2 + Vy^2$<br>\n",
    "$8^2+6^2 = 10$"
   ]
  },
  {
   "cell_type": "markdown",
   "metadata": {},
   "source": [
    "Quando tivermos somente angulo e o tamanho do vetor, achar as cordenada<br><br>\n",
    "V: tamanho do vetor<br>\n",
    "a: angulo<br>\n",
    "V * Cos A<br><br>\n",
    "$Vx->10*cos36.87=8$<br><br>\n",
    "O cateto adjacente: sera nosso x<br>\n",
    "O cateto Oposto: nosso Y<br>\n",
    "Hipotenusa:Vetor\n"
   ]
  },
  {
   "cell_type": "markdown",
   "metadata": {},
   "source": [
    "\n",
    "$Vy->10*Sen36.87=6$<br><br>\n",
    "\n"
   ]
  },
  {
   "cell_type": "markdown",
   "metadata": {},
   "source": [
    "#### Vtores Rn"
   ]
  },
  {
   "cell_type": "markdown",
   "metadata": {},
   "source": [
    "quando temos vetores maiores q 3d, nao conseguimos mais traçar eixos e passamos a ter componentes"
   ]
  },
  {
   "cell_type": "markdown",
   "metadata": {},
   "source": [
    "#### Operacoes em vetores "
   ]
  },
  {
   "cell_type": "markdown",
   "metadata": {},
   "source": [
    "##### Adicao e subtracao"
   ]
  },
  {
   "cell_type": "code",
   "execution_count": 19,
   "metadata": {},
   "outputs": [
    {
     "data": {
      "text/plain": [
       "array([11, 32, 43])"
      ]
     },
     "execution_count": 19,
     "metadata": {},
     "output_type": "execute_result"
    }
   ],
   "source": [
    "import numpy as np \n",
    "\n",
    "v1=np.array([1,2,3])\n",
    "v2=np.array([10,30,40])\n",
    "\n",
    "v1+v2 # faz soma de componento por componente de cada vetor"
   ]
  },
  {
   "cell_type": "markdown",
   "metadata": {},
   "source": [
    "#### Produto ou multiplicacao"
   ]
  },
  {
   "cell_type": "code",
   "execution_count": 20,
   "metadata": {},
   "outputs": [
    {
     "data": {
      "text/plain": [
       "array([ 10,  60, 120])"
      ]
     },
     "execution_count": 20,
     "metadata": {},
     "output_type": "execute_result"
    }
   ],
   "source": [
    "import numpy as np \n",
    "\n",
    "v1=np.array([1,2,3])\n",
    "v2=np.array([10,30,40])\n",
    "\n",
    "v1*v2# faz multiplicacao de componento por componente de cada vetor\n"
   ]
  },
  {
   "cell_type": "code",
   "execution_count": 21,
   "metadata": {},
   "outputs": [
    {
     "data": {
      "text/plain": [
       "array([ 4,  8, 12])"
      ]
     },
     "execution_count": 21,
     "metadata": {},
     "output_type": "execute_result"
    }
   ],
   "source": [
    "# por escalar ele multiplica todos \n",
    "4*v1"
   ]
  },
  {
   "cell_type": "markdown",
   "metadata": {},
   "source": [
    "Norma: e diferenca do ponto de inicio ate o final do vetor: comprimento<br>\n",
    "distancia: distancia entre um vetor e outro"
   ]
  },
  {
   "cell_type": "code",
   "execution_count": 22,
   "metadata": {},
   "outputs": [],
   "source": [
    "def dist(v1,v2):\n",
    "    soma_quad = 0\n",
    "    for i in range(len(v1)):\n",
    "        soma_quad=soma_quad+(v1[i]-v2[i])**2\n",
    "        i=i+1\n",
    "    dist=soma_quad**(1/2)\n",
    "    return dist"
   ]
  },
  {
   "cell_type": "code",
   "execution_count": 87,
   "metadata": {},
   "outputs": [
    {
     "data": {
      "text/plain": [
       "13.892443989449804"
      ]
     },
     "execution_count": 87,
     "metadata": {},
     "output_type": "execute_result"
    }
   ],
   "source": [
    "\n",
    "v1=np.array([55,-4,1])\n",
    "v2=np.array([44,2,-5])\n",
    "dist(v1,v2)"
   ]
  },
  {
   "cell_type": "code",
   "execution_count": 88,
   "metadata": {},
   "outputs": [
    {
     "data": {
      "text/plain": [
       "71.0"
      ]
     },
     "execution_count": 88,
     "metadata": {},
     "output_type": "execute_result"
    }
   ],
   "source": [
    "# funcao de geeralizacao para o grafico \n",
    "# que baseado nos valores dos vetores eu tenho um numero dentro capaz de escalar os eixos do grafico sem ser insuficiente\n",
    "from functools import reduce\n",
    "import math \n",
    "\n",
    "qd = (v1**2) +(v2**2) # os negativos nao penalizarem, pois na operacao de soma\n",
    "\n",
    "r = reduce(lambda a,b:a+b,qd) # soma dos valores, para reproduzir o tamanho maximo do meu vetor, soma geometrica\n",
    "ax= np.round(math.sqrt(r))# extraio da raiz\n",
    "ax # tenho uma aproximacao, dos valores do vetor considerando q \n",
    "# quanto maior os meus valores simbolizam que mais dados eu tenho, maior distancaia, fazendo com que de fato a aplicacao do limite central seja valida"
   ]
  },
  {
   "cell_type": "code",
   "execution_count": 89,
   "metadata": {},
   "outputs": [
    {
     "data": {
      "text/plain": [
       "(-71.0, 71.0)"
      ]
     },
     "execution_count": 89,
     "metadata": {},
     "output_type": "execute_result"
    },
    {
     "data": {
      "image/png": "[encoded data removed]",
      "text/plain": [
       "<Figure size 720x720 with 1 Axes>"
      ]
     },
     "metadata": {
      "needs_background": "light"
     },
     "output_type": "display_data"
    }
   ],
   "source": [
    "graph_vectors([v1,v2],['orange','green'])\n",
    "plt.xlim(-ax, ax)\n",
    "plt.ylim(-ax, ax)"
   ]
  },
  {
   "cell_type": "code",
   "execution_count": 93,
   "metadata": {},
   "outputs": [
    {
     "data": {
      "text/plain": [
       "55.154328932550705"
      ]
     },
     "execution_count": 93,
     "metadata": {},
     "output_type": "execute_result"
    }
   ],
   "source": [
    "# distancia entre origem e o ponto final, ponto 0 ate ponto de intercptacao de x,y \n",
    "v = np.array([10,5,-3,22,100])\n",
    "np.linalg.norm(v1) # ponto final, ponto"
   ]
  }
 ],
 "metadata": {
  "kernelspec": {
   "display_name": "Python 3.9.12 ('base')",
   "language": "python",
   "name": "python3"
  },
  "language_info": {
   "codemirror_mode": {
    "name": "ipython",
    "version": 3
   },
   "file_extension": ".py",
   "mimetype": "text/x-python",
   "name": "python",
   "nbconvert_exporter": "python",
   "pygments_lexer": "ipython3",
   "version": "3.9.12"
  },
  "orig_nbformat": 4,
  "vscode": {
   "interpreter": {
    "hash": "4f8615f1cda2a11f782ba972b5b6f6f9848cdfdc733b0cbafbbc9a871cc9c72c"
   }
  }
 },
 "nbformat": 4,
 "nbformat_minor": 2
}
