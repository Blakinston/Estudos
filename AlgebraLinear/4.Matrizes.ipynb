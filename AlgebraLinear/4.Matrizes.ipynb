{
 "cells": [
  {
   "cell_type": "markdown",
   "metadata": {},
   "source": [
    "Notacao Aij(linha,coluna)<br>\n",
    "$$\\begin{bmatrix} 1 & 2  \\\\ 0 & 2  \\end{bmatrix}$$"
   ]
  },
  {
   "cell_type": "markdown",
   "metadata": {},
   "source": [
    "Matriz linha(vetor linha) <br>\n",
    "$$\\begin{bmatrix} 1 & 2  \\end{bmatrix}$$"
   ]
  },
  {
   "cell_type": "markdown",
   "metadata": {},
   "source": [
    "Matriz coluna(vetor coluna) <br>\n",
    "$$\\begin{bmatrix} 1 \\\\ 2 \\\\  3 \\end{bmatrix}$$"
   ]
  },
  {
   "cell_type": "markdown",
   "metadata": {},
   "source": [
    "Matriz transposta: pivot (matriz 3x2 vira 2x3)<br>\n",
    "$$\\begin{bmatrix} 1 & 3 \\\\ 2 & 5  \\\\  3 & 4 \\end{bmatrix}$$\n",
    "$$\\begin{bmatrix} 1 & 2 & 3  \\\\ 3 & 5 & 4  \\end{bmatrix}$$"
   ]
  },
  {
   "cell_type": "code",
   "execution_count": 1,
   "metadata": {},
   "outputs": [
    {
     "data": {
      "text/plain": [
       "array([[1, 2, 3],\n",
       "       [4, 5, 6],\n",
       "       [7, 8, 9]])"
      ]
     },
     "execution_count": 1,
     "metadata": {},
     "output_type": "execute_result"
    }
   ],
   "source": [
    "import numpy as np \n",
    "\n",
    "matriz = np.array([[1,2,3],\n",
    "                    [4,5,6],\n",
    "                    [7,8,9]]) # melhor usar, array, pois a funcao matrix sera depreciada\n",
    "matriz"
   ]
  },
  {
   "cell_type": "code",
   "execution_count": 2,
   "metadata": {},
   "outputs": [
    {
     "data": {
      "text/plain": [
       "array([[ 2,  0,  0,  0,  0],\n",
       "       [ 0,  4,  0,  0,  0],\n",
       "       [ 0,  0,  6,  0,  0],\n",
       "       [ 0,  0,  0,  8,  0],\n",
       "       [ 0,  0,  0,  0, 10]])"
      ]
     },
     "execution_count": 2,
     "metadata": {},
     "output_type": "execute_result"
    }
   ],
   "source": [
    "np.diag((2,4,6,8,10)) # matris diagonal"
   ]
  },
  {
   "cell_type": "code",
   "execution_count": 3,
   "metadata": {},
   "outputs": [
    {
     "data": {
      "text/plain": [
       "array([[1, 4, 7],\n",
       "       [2, 5, 8],\n",
       "       [3, 6, 9]])"
      ]
     },
     "execution_count": 3,
     "metadata": {},
     "output_type": "execute_result"
    }
   ],
   "source": [
    "# tranpos matriz, linha vira coluna e vice versa\n",
    "matriz.T"
   ]
  },
  {
   "cell_type": "code",
   "execution_count": 4,
   "metadata": {},
   "outputs": [
    {
     "data": {
      "text/plain": [
       "array([[2, 4, 5]])"
      ]
     },
     "execution_count": 4,
     "metadata": {},
     "output_type": "execute_result"
    }
   ],
   "source": [
    "# matriz linha\n",
    "np.array([[2,4,5]])"
   ]
  },
  {
   "cell_type": "code",
   "execution_count": 5,
   "metadata": {},
   "outputs": [
    {
     "data": {
      "text/plain": [
       "array([[2],\n",
       "       [4],\n",
       "       [5]])"
      ]
     },
     "execution_count": 5,
     "metadata": {},
     "output_type": "execute_result"
    }
   ],
   "source": [
    "np.array([[2],[4],[5]]) #matriz coluna"
   ]
  },
  {
   "cell_type": "code",
   "execution_count": 39,
   "metadata": {},
   "outputs": [
    {
     "data": {
      "text/latex": [
       "$\\displaystyle \\left[\\begin{matrix}2 & 4\\\\7 & 5\\\\8 & 30\\end{matrix}\\right]$"
      ],
      "text/plain": [
       "Matrix([\n",
       "[2,  4],\n",
       "[7,  5],\n",
       "[8, 30]])"
      ]
     },
     "execution_count": 39,
     "metadata": {},
     "output_type": "execute_result"
    }
   ],
   "source": [
    "from sympy import * \n",
    "\n",
    "m = Matrix(3,2,[2,4,7,5,8,30]) # 3 colunas x 2 linhas\n",
    "m"
   ]
  },
  {
   "cell_type": "code",
   "execution_count": 28,
   "metadata": {},
   "outputs": [
    {
     "data": {
      "text/latex": [
       "$\\displaystyle \\left[\\begin{matrix}5 & 8\\end{matrix}\\right]$"
      ],
      "text/plain": [
       "Matrix([[5, 8]])"
      ]
     },
     "execution_count": 28,
     "metadata": {},
     "output_type": "execute_result"
    }
   ],
   "source": [
    "m[1,[0,1]]"
   ]
  },
  {
   "cell_type": "markdown",
   "metadata": {},
   "source": [
    "####  multiplicacao entr matrizes devem ser, numero de linhas deve ser o mesmo do numero de colunas\n"
   ]
  },
  {
   "cell_type": "code",
   "execution_count": 47,
   "metadata": {},
   "outputs": [
    {
     "data": {
      "text/plain": [
       "((3, 2), (2, 3))"
      ]
     },
     "execution_count": 47,
     "metadata": {},
     "output_type": "execute_result"
    }
   ],
   "source": [
    "m.shape,m2.shape"
   ]
  },
  {
   "cell_type": "code",
   "execution_count": 38,
   "metadata": {},
   "outputs": [
    {
     "data": {
      "text/latex": [
       "$\\displaystyle \\left[\\begin{matrix}2 & 4 & 3\\\\5 & 8 & 6\\end{matrix}\\right]$"
      ],
      "text/plain": [
       "Matrix([\n",
       "[2, 4, 3],\n",
       "[5, 8, 6]])"
      ]
     },
     "execution_count": 38,
     "metadata": {},
     "output_type": "execute_result"
    }
   ],
   "source": [
    "m2 = Matrix(2,3,[2,4,3,5,8,6])# 2 linhas X 3 colunas\n",
    "m2"
   ]
  },
  {
   "cell_type": "code",
   "execution_count": 42,
   "metadata": {},
   "outputs": [
    {
     "data": {
      "text/latex": [
       "$\\displaystyle \\left[\\begin{matrix}24 & 40 & 30\\\\39 & 68 & 51\\\\166 & 272 & 204\\end{matrix}\\right]$"
      ],
      "text/plain": [
       "Matrix([\n",
       "[ 24,  40,  30],\n",
       "[ 39,  68,  51],\n",
       "[166, 272, 204]])"
      ]
     },
     "execution_count": 42,
     "metadata": {},
     "output_type": "execute_result"
    }
   ],
   "source": [
    "m*m2 # multiplica elemento da linha da primeira matriza pela coluna da segunda"
   ]
  },
  {
   "cell_type": "code",
   "execution_count": 45,
   "metadata": {},
   "outputs": [
    {
     "data": {
      "text/latex": [
       "$\\displaystyle \\left[\\begin{matrix}56 & 118\\\\114 & 240\\end{matrix}\\right]$"
      ],
      "text/plain": [
       "Matrix([\n",
       "[ 56, 118],\n",
       "[114, 240]])"
      ]
     },
     "execution_count": 45,
     "metadata": {},
     "output_type": "execute_result"
    }
   ],
   "source": [
    "m2*m # ordem importa"
   ]
  },
  {
   "cell_type": "code",
   "execution_count": 56,
   "metadata": {},
   "outputs": [
    {
     "data": {
      "text/plain": [
       "(3, 3)"
      ]
     },
     "execution_count": 56,
     "metadata": {},
     "output_type": "execute_result"
    }
   ],
   "source": [
    "# linhas e colunas iguais podemos multiplicar\n",
    "m.shape[0],m2.shape[1]"
   ]
  },
  {
   "cell_type": "code",
   "execution_count": 55,
   "metadata": {},
   "outputs": [
    {
     "data": {
      "text/plain": [
       "array([[ 24.,  40.,  30.],\n",
       "       [ 39.,  68.,  51.],\n",
       "       [166., 272., 204.]])"
      ]
     },
     "execution_count": 55,
     "metadata": {},
     "output_type": "execute_result"
    }
   ],
   "source": [
    "# numero de colunas tem q ser igual numero de linhas\n",
    "m = np.array(m).astype(np.float64) \n",
    "m2 = np.array(m2).astype(np.float64)\n",
    "np.dot(m,m2)"
   ]
  },
  {
   "cell_type": "markdown",
   "metadata": {},
   "source": [
    "### Determinante"
   ]
  },
  {
   "cell_type": "markdown",
   "metadata": {},
   "source": [
    "matriz 2 x 2:produto da diagonal principal - produto da diagonal secundaria, quando temos um determante temos solucao para o sistema<br>\n",
    "matriz 3 x 3: regra de sarri(sarrus): repete as duas primeiras coluna sno final e multiplica as diagonais a direita soma, as diagonais a esquerda multiplica e subtrai, soma todos os valores<br>\n",
    "apenas determinante =0 nao tem solucao\n"
   ]
  },
  {
   "cell_type": "markdown",
   "metadata": {},
   "source": [
    "qualquer ordem de matriz, usamo o <b>Teorema de Laplace</b>\n",
    "1.cofator <br>\n",
    "D= Soma Aij*Cij\n"
   ]
  },
  {
   "cell_type": "code",
   "execution_count": 62,
   "metadata": {},
   "outputs": [
    {
     "data": {
      "text/plain": [
       "array([[ 24.,  40.,  30.],\n",
       "       [ 39.,  68.,  51.],\n",
       "       [166., 272., 204.]])"
      ]
     },
     "execution_count": 62,
     "metadata": {},
     "output_type": "execute_result"
    }
   ],
   "source": [
    "# nao resulta em uma matriz identidade, entao uma nao e uma matriz inversa\n",
    "np.dot(m,m2)"
   ]
  },
  {
   "cell_type": "code",
   "execution_count": 66,
   "metadata": {},
   "outputs": [
    {
     "data": {
      "text/plain": [
       "array([[1, 0],\n",
       "       [0, 1]])"
      ]
     },
     "execution_count": 66,
     "metadata": {},
     "output_type": "execute_result"
    }
   ],
   "source": [
    "# matriz inversa, onde obtemos como resultado uma matriz identidade \n",
    "m5 = np.array([[2,5],\n",
    "               [1,3 ]])\n",
    "\n",
    "m6 = np.array([[3,-5],\n",
    "               [-1,2 ]])\n",
    "np.dot(m5,m6)"
   ]
  },
  {
   "cell_type": "code",
   "execution_count": 67,
   "metadata": {},
   "outputs": [
    {
     "data": {
      "text/plain": [
       "array([[ 3., -5.],\n",
       "       [-1.,  2.]])"
      ]
     },
     "execution_count": 67,
     "metadata": {},
     "output_type": "execute_result"
    }
   ],
   "source": [
    "# nem toda matriz tem uma inversa, entao quando nao tiver ira dar erro\n",
    "np.linalg.inv(m5)"
   ]
  },
  {
   "cell_type": "markdown",
   "metadata": {},
   "source": [
    "#### Determinante"
   ]
  },
  {
   "cell_type": "code",
   "execution_count": 88,
   "metadata": {},
   "outputs": [
    {
     "data": {
      "text/latex": [
       "$\\displaystyle \\left[\\begin{matrix}1 & 3 & 2 & 4\\\\6 & 5 & 7 & 9\\\\10 & 12 & 11 & 13\\\\15 & 14 & 16 & 17\\end{matrix}\\right]$"
      ],
      "text/plain": [
       "Matrix([\n",
       "[ 1,  3,  2,  4],\n",
       "[ 6,  5,  7,  9],\n",
       "[10, 12, 11, 13],\n",
       "[15, 14, 16, 17]])"
      ]
     },
     "execution_count": 88,
     "metadata": {},
     "output_type": "execute_result"
    }
   ],
   "source": [
    "mm = Matrix(4,4,[1,3,2,4,6,5,7,9,10,12,11,13,15,14,16,17])# lei de formacao qualquer \n",
    "mm"
   ]
  },
  {
   "cell_type": "code",
   "execution_count": 89,
   "metadata": {},
   "outputs": [
    {
     "data": {
      "text/plain": [
       "array([[ 1.,  3.,  2.,  4.],\n",
       "       [ 6.,  5.,  7.,  9.],\n",
       "       [10., 12., 11., 13.],\n",
       "       [15., 14., 16., 17.]])"
      ]
     },
     "execution_count": 89,
     "metadata": {},
     "output_type": "execute_result"
    }
   ],
   "source": [
    "mx=np.array(mm).astype(np.float64)\n",
    "mx"
   ]
  },
  {
   "cell_type": "code",
   "execution_count": 90,
   "metadata": {},
   "outputs": [
    {
     "data": {
      "text/plain": [
       "-26.99999999999998"
      ]
     },
     "execution_count": 90,
     "metadata": {},
     "output_type": "execute_result"
    }
   ],
   "source": [
    "np.linalg.det(mx)"
   ]
  },
  {
   "cell_type": "code",
   "execution_count": 93,
   "metadata": {},
   "outputs": [
    {
     "data": {
      "text/plain": [
       "-27.000000000000007"
      ]
     },
     "execution_count": 93,
     "metadata": {},
     "output_type": "execute_result"
    }
   ],
   "source": [
    "import scipy as sp \n",
    "from scipy import linalg\n",
    "\n",
    "sp.linalg.det(mx) # melhor usar aqui o determinante"
   ]
  },
  {
   "cell_type": "code",
   "execution_count": 103,
   "metadata": {},
   "outputs": [
    {
     "data": {
      "text/plain": [
       "0.0"
      ]
     },
     "execution_count": 103,
     "metadata": {},
     "output_type": "execute_result"
    }
   ],
   "source": [
    "t = np.array([[0,2],[0,-6]])\n",
    "sp.linalg.det(t) # nao tem uma matriz inversa"
   ]
  },
  {
   "cell_type": "code",
   "execution_count": null,
   "metadata": {},
   "outputs": [],
   "source": []
  }
 ],
 "metadata": {
  "kernelspec": {
   "display_name": "Python 3.9.12 ('base')",
   "language": "python",
   "name": "python3"
  },
  "language_info": {
   "codemirror_mode": {
    "name": "ipython",
    "version": 3
   },
   "file_extension": ".py",
   "mimetype": "text/x-python",
   "name": "python",
   "nbconvert_exporter": "python",
   "pygments_lexer": "ipython3",
   "version": "3.9.12"
  },
  "orig_nbformat": 4,
  "vscode": {
   "interpreter": {
    "hash": "4f8615f1cda2a11f782ba972b5b6f6f9848cdfdc733b0cbafbbc9a871cc9c72c"
   }
  }
 },
 "nbformat": 4,
 "nbformat_minor": 2
}
