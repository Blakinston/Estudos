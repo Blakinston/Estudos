{
 "cells": [
  {
   "cell_type": "markdown",
   "metadata": {},
   "source": [
    "teste de hipotese "
   ]
  },
  {
   "cell_type": "markdown",
   "metadata": {},
   "source": [
    "Aceitamos ou nao valor de um parametro"
   ]
  },
  {
   "cell_type": "markdown",
   "metadata": {},
   "source": [
    "H0: hipotese verdadeira(nula)<br>\n",
    "Ha: hipotese akternativa"
   ]
  },
  {
   "cell_type": "markdown",
   "metadata": {},
   "source": [
    "p> alpha: aceita h0<br>\n",
    "p< alpha: rejeita h0<br>\n"
   ]
  },
  {
   "cell_type": "markdown",
   "metadata": {},
   "source": [
    "definir o tamanho da amostra<br>\n",
    "media e dvp <br>\n",
    "definir hipoteses<br>\n",
    "defini alpha<br>\n",
    "padroniza<br>\n",
    "encontra p na tabela z e compara e emite veridito"
   ]
  },
  {
   "cell_type": "markdown",
   "metadata": {},
   "source": [
    "Diminuir o alpha: diminui chance do erro tipo I, mais chance com erro tipo ii<br>\n",
    "Aumentar alpha:  menos chance com erro tipo ii, aumentar chance do erro tipo I"
   ]
  },
  {
   "cell_type": "markdown",
   "metadata": {},
   "source": [
    "erro tipo 1 : rejeitar a hipotese nula quando nao deveria <br>\n",
    "erro tipo 2 : nao rejeitar a hipotese nula quando  deveria "
   ]
  },
  {
   "cell_type": "markdown",
   "metadata": {},
   "source": [
    "Ha < : teste unilateral a esquerda, os dados estaram a esqueda<br>\n",
    "Ha > : teste unilateral a direita, os dados estaram a direita<br>\n",
    "Ha !=: teste bilateral ele esta em uma das extremidades\n"
   ]
  },
  {
   "cell_type": "markdown",
   "metadata": {},
   "source": [
    "media amostral - media populaciona / (dvp populacional/ n amostral **(1/2))"
   ]
  },
  {
   "cell_type": "code",
   "execution_count": 26,
   "metadata": {},
   "outputs": [],
   "source": [
    "import numpy as np\n",
    "from scipy import stats \n",
    "\n",
    "dados_originais = np.array([126. , 129.5, 133. , 133. , 136.5, 136.5, 140. , 140. , 140. ,\n",
    "                            140. , 143.5, 143.5, 143.5, 143.5, 143.5, 143.5, 147. , 147. ,\n",
    "                            147. , 147. , 147. , 147. , 147. , 150.5, 150.5, 150.5, 150.5,\n",
    "                            150.5, 150.5, 150.5, 150.5, 154. , 154. , 154. , 154. , 154. ,\n",
    "                            154. , 154. , 154. , 154. , 157.5, 157.5, 157.5, 157.5, 157.5,\n",
    "                            157.5, 157.5, 157.5, 157.5, 157.5, 161. , 161. , 161. , 161. ,\n",
    "                            161. , 161. , 161. , 161. , 161. , 161. , 164.5, 164.5, 164.5,\n",
    "                            164.5, 164.5, 164.5, 164.5, 164.5, 164.5, 168. , 168. , 168. ,\n",
    "                            168. , 168. , 168. , 168. , 168. , 171.5, 171.5, 171.5, 171.5,\n",
    "                            171.5, 171.5, 171.5, 175. , 175. , 175. , 175. , 175. , 175. ,\n",
    "                            178.5, 178.5, 178.5, 178.5, 182. , 182. , 185.5, 185.5, 189., 192.5])\n",
    "med_h0 = np.mean(dados_originais)\n",
    "dvp_h0 = np.std(dados_originais)\n"
   ]
  },
  {
   "cell_type": "code",
   "execution_count": 29,
   "metadata": {},
   "outputs": [],
   "source": [
    "dados_novos = dados_originais * 1.03\n",
    "med_ha = np.mean(dados_novos)# h1\n",
    "dvp_ha = np.std(dados_novos)\n",
    "n_a = len(dados_novos)"
   ]
  },
  {
   "cell_type": "code",
   "execution_count": 40,
   "metadata": {},
   "outputs": [
    {
     "data": {
      "text/plain": [
       "0.00033932983825135654"
      ]
     },
     "execution_count": 40,
     "metadata": {},
     "output_type": "execute_result"
    }
   ],
   "source": [
    "import math \n",
    "\n",
    "z = (med_ha-med_h0)/(dvp_ha/(math.sqrt(n_a)))\n",
    "z= stats.norm.cdf(z)# probabilidade onde encontra o dado\n",
    "p= 1-z\n",
    "p"
   ]
  },
  {
   "cell_type": "code",
   "execution_count": 38,
   "metadata": {},
   "outputs": [
    {
     "data": {
      "text/plain": [
       "3.3980582524271936"
      ]
     },
     "execution_count": 38,
     "metadata": {},
     "output_type": "execute_result"
    }
   ],
   "source": [
    "stats.norm.ppf(0.9996606701617486)# esse e o z critico"
   ]
  },
  {
   "cell_type": "code",
   "execution_count": 41,
   "metadata": {},
   "outputs": [
    {
     "name": "stdout",
     "output_type": "stream",
     "text": [
      "hipotese nula rejeitada\n"
     ]
    }
   ],
   "source": [
    "if p< 0.05:\n",
    "    print('hipotese nula rejeitada')# hipotese alternativa aceita\n",
    "else:\n",
    "    print('hipotese alternativa rejeitada')# hipotese alternativa rejeitada\n"
   ]
  },
  {
   "cell_type": "code",
   "execution_count": 42,
   "metadata": {},
   "outputs": [
    {
     "data": {
      "text/plain": [
       "(-4.85162446851592, 0.9999993877283934)"
      ]
     },
     "execution_count": 42,
     "metadata": {},
     "output_type": "execute_result"
    }
   ],
   "source": [
    "from statsmodels.stats.weightstats import ztest\n",
    "\n",
    "# teste para media \n",
    "ztest(dados_originais,dados_novos,\n",
    "     value=med_ha-med_h0,alternative='larger')\n",
    "     # larger: media da ha e maior q da H0\n",
    "     # smaller:media da H0 e maior q da Ha"
   ]
  },
  {
   "cell_type": "markdown",
   "metadata": {},
   "source": [
    "### Teste Z"
   ]
  },
  {
   "cell_type": "code",
   "execution_count": 9,
   "metadata": {},
   "outputs": [
    {
     "data": {
      "text/plain": [
       "0.9813064023084475"
      ]
     },
     "execution_count": 9,
     "metadata": {},
     "output_type": "execute_result"
    }
   ],
   "source": [
    "from statsmodels.stats.proportion import proportions_ztest\n",
    "\n",
    "z_critico,p=proportions_ztest(7,100,0.01)# unilateral superior \n",
    "\n",
    "1-p"
   ]
  }
 ],
 "metadata": {
  "kernelspec": {
   "display_name": "Python 3.9.12 ('base')",
   "language": "python",
   "name": "python3"
  },
  "language_info": {
   "codemirror_mode": {
    "name": "ipython",
    "version": 3
   },
   "file_extension": ".py",
   "mimetype": "text/x-python",
   "name": "python",
   "nbconvert_exporter": "python",
   "pygments_lexer": "ipython3",
   "version": "3.9.12"
  },
  "orig_nbformat": 4,
  "vscode": {
   "interpreter": {
    "hash": "4f8615f1cda2a11f782ba972b5b6f6f9848cdfdc733b0cbafbbc9a871cc9c72c"
   }
  }
 },
 "nbformat": 4,
 "nbformat_minor": 2
}
