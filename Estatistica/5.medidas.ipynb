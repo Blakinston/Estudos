{
 "cells": [
  {
   "cell_type": "markdown",
   "metadata": {},
   "source": [
    "# Dados nao agrupados"
   ]
  },
  {
   "cell_type": "code",
   "execution_count": 2,
   "metadata": {},
   "outputs": [
    {
     "data": {
      "text/plain": [
       "[150, 151, 152, 153]"
      ]
     },
     "execution_count": 2,
     "metadata": {},
     "output_type": "execute_result"
    }
   ],
   "source": [
    "import numpy as np \n",
    "\n",
    "vet = [150, 151, 152, 153, 154, 155, 156, 157, 158, 159, 160, 160,161, 162,\n",
    "       163, 164, 165, 166, 167, 168, 169, 170, 171, 172, 173]\n",
    "vet[:4]"
   ]
  },
  {
   "cell_type": "markdown",
   "metadata": {},
   "source": [
    "Media simples aritimetica"
   ]
  },
  {
   "cell_type": "code",
   "execution_count": 3,
   "metadata": {},
   "outputs": [
    {
     "data": {
      "text/plain": [
       "161.44"
      ]
     },
     "execution_count": 3,
     "metadata": {},
     "output_type": "execute_result"
    }
   ],
   "source": [
    "np.mean(vet)"
   ]
  },
  {
   "cell_type": "markdown",
   "metadata": {},
   "source": [
    "  "
   ]
  },
  {
   "cell_type": "markdown",
   "metadata": {},
   "source": [
    "Moda"
   ]
  },
  {
   "cell_type": "code",
   "execution_count": 4,
   "metadata": {},
   "outputs": [
    {
     "data": {
      "text/plain": [
       "ModeResult(mode=array([160]), count=array([2]))"
      ]
     },
     "execution_count": 4,
     "metadata": {},
     "output_type": "execute_result"
    }
   ],
   "source": [
    "# medida robusta \n",
    "from scipy import stats\n",
    "\n",
    "stats.mode(vet)"
   ]
  },
  {
   "cell_type": "markdown",
   "metadata": {},
   "source": [
    "### Mediana"
   ]
  },
  {
   "cell_type": "code",
   "execution_count": 5,
   "metadata": {},
   "outputs": [
    {
     "data": {
      "text/plain": [
       "161.0"
      ]
     },
     "execution_count": 5,
     "metadata": {},
     "output_type": "execute_result"
    }
   ],
   "source": [
    "np.median(vet)"
   ]
  },
  {
   "cell_type": "markdown",
   "metadata": {},
   "source": [
    "\n",
    "<h1 style=\"color:yellow;\">Medias Pitagoricas</h1>"
   ]
  },
  {
   "cell_type": "markdown",
   "metadata": {},
   "source": [
    "Desigualdade das medias<br>\n",
    "<b>Media aritimetica >= media geometrica >= media harmonica"
   ]
  },
  {
   "cell_type": "markdown",
   "metadata": {},
   "source": [
    "<h4 style=\"color:#ffa07a;\">media ponderada</h4>\n",
    "quando existe ordem de importancia para cada valor"
   ]
  },
  {
   "cell_type": "markdown",
   "metadata": {},
   "source": [
    "<b><h4 style=\"color:LightBlue;\">Exemplo</h1></b> <br>\n",
    "55% dos clientes nao tem Seguro<br>\n",
    "20% tem um Seguro<br>\n",
    "E o restante tem 2 seguros<br>\n",
    "\n",
    "50 + 20 % = <b>75 % </b>dos clientes tem 0 ou 1 seguro <br>\n",
    "76 - 99 % tem 2 seguros "
   ]
  },
  {
   "cell_type": "code",
   "execution_count": 12,
   "metadata": {},
   "outputs": [
    {
     "name": "stdout",
     "output_type": "stream",
     "text": [
      "Media de seguros para cada cliente e de 0.7 Seguro\n"
     ]
    }
   ],
   "source": [
    "clientes_55pct = 0*0.55 # 55% tem 0 seguros \n",
    "clientes_20pct = 1*0.20 # 20% dos clientes tem 1 seguro\n",
    "clientes_25pct = 2*0.25 # 25% dos clientes tem 2 seguros \n",
    "\n",
    "total = clientes_55pct+clientes_20pct+clientes_25pct\n",
    "pesos = 55+20+25\n",
    "med_pond = total/pesos *100\n",
    "\n",
    "print('Media de seguros para cada cliente e de '+str(med_pond)+' Seguro') "
   ]
  },
  {
   "cell_type": "markdown",
   "metadata": {},
   "source": [
    "tambem usamos esse tipo d media para faixa de valores(dados agrupados)"
   ]
  },
  {
   "cell_type": "code",
   "execution_count": 7,
   "metadata": {},
   "outputs": [
    {
     "data": {
      "text/plain": [
       "59.4"
      ]
     },
     "execution_count": 7,
     "metadata": {},
     "output_type": "execute_result"
    }
   ],
   "source": [
    "# media das faixas\n",
    "# nos pegamos o limite inferio + superior e dividimos por 2, para termos a media da faixa\n",
    "\n",
    "fx50 = (54 +50) / 2 \n",
    "fx54 = (54+58)/2\n",
    "fx58 = (58+62)/2\n",
    "fx62 = (62+66)/2\n",
    "fx66 = (66+70)/2\n",
    "fi = 3+7+4+2+4\n",
    "(fx50*3+fx54*7+fx58*4+fx62*2+fx66*4)/fi # media ponderada, pois a frequencia representa um peso para faixa "
   ]
  },
  {
   "cell_type": "markdown",
   "metadata": {},
   "source": [
    "<h4 style=\"color:#ffa07a;\">Media Geometrica</h4>\n",
    "utilizada em casos de crescimento sucetivos, proximo a uma PG"
   ]
  },
  {
   "cell_type": "markdown",
   "metadata": {},
   "source": [
    "<b><h4 style=\"color:LightBlue;\">Exemplo Media Geometrica</h1></b> <br>\n",
    "Precisamo saber o crescimento medio de uma empresa em 3 anos<br>\n",
    "1 Ano 30%, 2 Ano 8%, 3 Ano 16% <br>\n"
   ]
  },
  {
   "cell_type": "code",
   "execution_count": 13,
   "metadata": {},
   "outputs": [
    {
     "data": {
      "text/plain": [
       "17.654452084397263"
      ]
     },
     "execution_count": 13,
     "metadata": {},
     "output_type": "execute_result"
    }
   ],
   "source": [
    "# Formula da media geometria\n",
    "x= 1.3*1.08*1.16\n",
    "Mg = x**(1/3) # raiz com numero de elementos a serem multiplicados\n",
    "(Mg-1) *100"
   ]
  },
  {
   "cell_type": "code",
   "execution_count": 10,
   "metadata": {},
   "outputs": [
    {
     "data": {
      "text/plain": [
       "1.1765445208439727"
      ]
     },
     "execution_count": 10,
     "metadata": {},
     "output_type": "execute_result"
    }
   ],
   "source": [
    "from scipy.stats.mstats import gmean\n",
    "\n",
    "crescimento =[1.3,1.08,1.16]\n",
    "gmean(crescimento)"
   ]
  },
  {
   "cell_type": "markdown",
   "metadata": {},
   "source": [
    "<h4 style=\"color:#ffa07a;\">Media Harmonica</h4>\n",
    "utilizada em casos de grandezas inversamente proporcionais, como velocidade e distancia<br>\n",
    "e tambem em algoritimos de aprendizado de maquina como recall e precision"
   ]
  },
  {
   "cell_type": "markdown",
   "metadata": {},
   "source": [
    "<b><h4 style=\"color:LightBlue;\">Exemplo Media Hamonica</h1></b> <br>\n",
    "Um veiculo subiu a ladeira a 60km/h e desceu 100km/h qual a velocidade media<br>\n"
   ]
  },
  {
   "cell_type": "code",
   "execution_count": null,
   "metadata": {},
   "outputs": [],
   "source": [
    "d = x"
   ]
  },
  {
   "cell_type": "code",
   "execution_count": 18,
   "metadata": {},
   "outputs": [
    {
     "data": {
      "text/plain": [
       "75.0"
      ]
     },
     "execution_count": 18,
     "metadata": {},
     "output_type": "execute_result"
    }
   ],
   "source": [
    "v = [60,100]\n",
    "n = len(v)\n",
    "Mh = n/(1/60+1/100)\n",
    "Mh"
   ]
  },
  {
   "cell_type": "code",
   "execution_count": 19,
   "metadata": {},
   "outputs": [
    {
     "data": {
      "text/plain": [
       "75.0"
      ]
     },
     "execution_count": 19,
     "metadata": {},
     "output_type": "execute_result"
    }
   ],
   "source": [
    "# media harmonica de dois valores\n",
    "2*(60*100)/(60+100)"
   ]
  },
  {
   "cell_type": "code",
   "execution_count": 22,
   "metadata": {},
   "outputs": [
    {
     "data": {
      "text/plain": [
       "'A velocidade media e de: 75.0 Km/h'"
      ]
     },
     "execution_count": 22,
     "metadata": {},
     "output_type": "execute_result"
    }
   ],
   "source": [
    "from scipy.stats.mstats import hmean\n",
    "\n",
    "'A velocidade media e de: '+str(hmean([60,100]))+' Km/h'"
   ]
  },
  {
   "cell_type": "markdown",
   "metadata": {},
   "source": [
    "<h1 style=\"color:yellow;\">Medias Quadratica</h1>"
   ]
  },
  {
   "cell_type": "markdown",
   "metadata": {},
   "source": [
    "elementos que variam entre positivos e negativos<br>\n",
    "usamos em regressoes linear"
   ]
  },
  {
   "cell_type": "code",
   "execution_count": 26,
   "metadata": {},
   "outputs": [
    {
     "data": {
      "text/plain": [
       "7.582875444051551"
      ]
     },
     "execution_count": 26,
     "metadata": {},
     "output_type": "execute_result"
    }
   ],
   "source": [
    "# RMS, root mean squared\n",
    "import math \n",
    "saldo = [6,7,8,9] # saldo de contas\n",
    "\n",
    "def quadratic_mean(data):\n",
    "    '''\n",
    "        param: data\n",
    "        E = n1^2+ ... n # Soma do quadrado dos elementos\n",
    "        E/n # soma do quadrado dos elementos dividido pelo numero de elementos\n",
    "    '''\n",
    "    return math.sqrt(sum(n*n for n in data )/len(data))# n*n e o mesmo que elevar a 2\n",
    "quadratic_mean(saldo)"
   ]
  },
  {
   "cell_type": "code",
   "execution_count": 30,
   "metadata": {},
   "outputs": [
    {
     "data": {
      "text/plain": [
       "1.0"
      ]
     },
     "execution_count": 30,
     "metadata": {},
     "output_type": "execute_result"
    }
   ],
   "source": [
    "from sklearn.metrics import mean_squared_error\n",
    "mean_squared_error(saldo,[5,6,7,8]) # e a mesma media porem calcula-s o erro medio quadratico e nao somente a media"
   ]
  }
 ],
 "metadata": {
  "kernelspec": {
   "display_name": "Python 3.9.12 ('base')",
   "language": "python",
   "name": "python3"
  },
  "language_info": {
   "codemirror_mode": {
    "name": "ipython",
    "version": 3
   },
   "file_extension": ".py",
   "mimetype": "text/x-python",
   "name": "python",
   "nbconvert_exporter": "python",
   "pygments_lexer": "ipython3",
   "version": "3.9.12"
  },
  "orig_nbformat": 4,
  "vscode": {
   "interpreter": {
    "hash": "4f8615f1cda2a11f782ba972b5b6f6f9848cdfdc733b0cbafbbc9a871cc9c72c"
   }
  }
 },
 "nbformat": 4,
 "nbformat_minor": 2
}
