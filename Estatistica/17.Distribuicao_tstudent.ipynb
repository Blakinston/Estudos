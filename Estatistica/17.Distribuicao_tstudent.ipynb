{
 "cells": [
  {
   "cell_type": "markdown",
   "metadata": {},
   "source": [
    "POucos dados e variacao nao conhecida"
   ]
  },
  {
   "cell_type": "code",
   "execution_count": 1,
   "metadata": {},
   "outputs": [
    {
     "data": {
      "text/plain": [
       "array([149, 160, 147, 189, 175, 156, 160, 152])"
      ]
     },
     "execution_count": 1,
     "metadata": {},
     "output_type": "execute_result"
    }
   ],
   "source": [
    "import numpy as np\n",
    "import seaborn as sn \n",
    "from scipy import stats\n",
    "\n",
    "d = np.array([149,160,147,189,175,156,160,152])\n",
    "d\n"
   ]
  },
  {
   "cell_type": "code",
   "execution_count": 2,
   "metadata": {},
   "outputs": [
    {
     "data": {
      "text/plain": [
       "2.3060041350333704"
      ]
     },
     "execution_count": 2,
     "metadata": {},
     "output_type": "execute_result"
    }
   ],
   "source": [
    "media=d.mean()\n",
    "dvp = 12.78\n",
    "gama=0.95 #95% confianca\n",
    "alpha = 1-gama \n",
    "n=9 -1# qtd de observacoes,amostra \n",
    "\n",
    "t = alpha/2\n",
    "\n",
    "t = stats.t.ppf(t,n) *(-1)# t critico e graus de liberdade \n",
    "t"
   ]
  },
  {
   "cell_type": "code",
   "execution_count": 3,
   "metadata": {},
   "outputs": [
    {
     "data": {
      "text/plain": [
       "(151.17642238475784, 170.82357761524216)"
      ]
     },
     "execution_count": 3,
     "metadata": {},
     "output_type": "execute_result"
    }
   ],
   "source": [
    "media-(t*dvp/9**(1/2)),media+(t*dvp/9**(1/2))"
   ]
  },
  {
   "cell_type": "code",
   "execution_count": 4,
   "metadata": {},
   "outputs": [
    {
     "data": {
      "text/plain": [
       "(150.1073337163473, 171.8926662836527)"
      ]
     },
     "execution_count": 4,
     "metadata": {},
     "output_type": "execute_result"
    }
   ],
   "source": [
    "n=9\n",
    "ic=stats.t.interval(0.95,n-1,media,stats.sem(d,ddof=0)) # amostra\n",
    "ic"
   ]
  },
  {
   "cell_type": "code",
   "execution_count": 5,
   "metadata": {},
   "outputs": [
    {
     "data": {
      "text/plain": [
       "10.892666283652687"
      ]
     },
     "execution_count": 5,
     "metadata": {},
     "output_type": "execute_result"
    }
   ],
   "source": [
    "media-ic[0]"
   ]
  },
  {
   "cell_type": "markdown",
   "metadata": {},
   "source": [
    "Compensasao "
   ]
  },
  {
   "cell_type": "markdown",
   "metadata": {},
   "source": [
    "Nivel de confianca: aumentando o nivel de confianca aumenta o Erro padrao <br>\n",
    "Tamanho da amostra: aumentando o tamanho diminuimos o erro padrao"
   ]
  },
  {
   "cell_type": "markdown",
   "metadata": {},
   "source": [
    "Exmplo de compensasao usando Z"
   ]
  },
  {
   "cell_type": "code",
   "execution_count": 6,
   "metadata": {},
   "outputs": [
    {
     "data": {
      "text/plain": [
       "(5584.4, 6015.6)"
      ]
     },
     "execution_count": 6,
     "metadata": {},
     "output_type": "execute_result"
    }
   ],
   "source": [
    "# Ex, salario de cientista de dados \n",
    "n = 100\n",
    "gama = 0.95\n",
    "dvp = 1100\n",
    "media=5800\n",
    "alpha = 1-gama \n",
    "z = alpha/2\n",
    "z= round(stats.norm.ppf(z) *(-1),2)\n",
    "ic= media-(z*dvp/n**(1/2)),media+(z*dvp/n**(1/2))\n",
    "ic"
   ]
  },
  {
   "cell_type": "markdown",
   "metadata": {},
   "source": [
    "O salario medio de um cientista de dados e entre 5.584 e 6.015.60, com nivel de confianca de 95%"
   ]
  },
  {
   "cell_type": "code",
   "execution_count": 7,
   "metadata": {},
   "outputs": [
    {
     "data": {
      "text/plain": [
       "215.60000000000036"
      ]
     },
     "execution_count": 7,
     "metadata": {},
     "output_type": "execute_result"
    }
   ],
   "source": [
    "media-ic[0]"
   ]
  },
  {
   "cell_type": "code",
   "execution_count": 8,
   "metadata": {},
   "outputs": [
    {
     "data": {
      "text/plain": [
       "215.6"
      ]
     },
     "execution_count": 8,
     "metadata": {},
     "output_type": "execute_result"
    }
   ],
   "source": [
    "1.96*dvp/(n**(1/2)) "
   ]
  },
  {
   "cell_type": "code",
   "execution_count": 9,
   "metadata": {},
   "outputs": [
    {
     "data": {
      "text/plain": [
       "(5584.403961700594, 6015.596038299406)"
      ]
     },
     "execution_count": 9,
     "metadata": {},
     "output_type": "execute_result"
    }
   ],
   "source": [
    "error = dvp/n**(1/2) \n",
    "stats.norm.interval(0.95,media,error)"
   ]
  },
  {
   "cell_type": "markdown",
   "metadata": {},
   "source": [
    "Proporcao"
   ]
  },
  {
   "cell_type": "code",
   "execution_count": 10,
   "metadata": {},
   "outputs": [
    {
     "data": {
      "text/plain": [
       "1.96"
      ]
     },
     "execution_count": 10,
     "metadata": {},
     "output_type": "execute_result"
    }
   ],
   "source": [
    "# pesquisa de 100 pessoas usam intel amd, ou nao usam pc\n",
    "n = 1000\n",
    "gama = 0.95\n",
    "alpha = 1-gama \n",
    "# proporcao de pessoas\n",
    "intel = 650/n\n",
    "amd=330/n\n",
    "nenhum=20/n\n",
    "\n",
    "z = alpha/2\n",
    "z= round(stats.norm.ppf(z) *(-1),2)\n",
    "z"
   ]
  },
  {
   "cell_type": "code",
   "execution_count": 64,
   "metadata": {},
   "outputs": [
    {
     "data": {
      "text/plain": [
       "(0.744563847026013, 0.8554361529739871)"
      ]
     },
     "execution_count": 64,
     "metadata": {},
     "output_type": "execute_result"
    }
   ],
   "source": [
    "from statsmodels.stats.proportion import proportion_confint\n",
    "\n",
    "gama = 0.95 \n",
    "a = 1-gama \n",
    "proportion_confint(count=160, nobs=200, alpha=a)"
   ]
  },
  {
   "cell_type": "code",
   "execution_count": 33,
   "metadata": {},
   "outputs": [
    {
     "data": {
      "text/plain": [
       "(0.8554371716450254, 0.7445628283549747)"
      ]
     },
     "execution_count": 33,
     "metadata": {},
     "output_type": "execute_result"
    }
   ],
   "source": [
    "0.8+1.96*(math.sqrt(0.8*((1-0.8)/200))),0.8-1.96*(math.sqrt(0.8*((1-0.8)/200)))"
   ]
  },
  {
   "cell_type": "code",
   "execution_count": 26,
   "metadata": {},
   "outputs": [
    {
     "data": {
      "text/plain": [
       "(0.0, 1.0)"
      ]
     },
     "execution_count": 26,
     "metadata": {},
     "output_type": "execute_result"
    }
   ],
   "source": [
    "import math\n",
    "import scipy.stats\n",
    "\n",
    "def my_ztest(successes, n, p_0):\n",
    "    p_hat = successes / n\n",
    "    z = (p_hat - p_0) / math.sqrt(p_0 * (1 - p_0) / n)\n",
    "    p = scipy.stats.norm.sf(abs(z)) * 2\n",
    "    return z, p\n",
    "my_ztest(160,200,0.8)"
   ]
  }
 ],
 "metadata": {
  "kernelspec": {
   "display_name": "Python 3.9.12 ('base')",
   "language": "python",
   "name": "python3"
  },
  "language_info": {
   "codemirror_mode": {
    "name": "ipython",
    "version": 3
   },
   "file_extension": ".py",
   "mimetype": "text/x-python",
   "name": "python",
   "nbconvert_exporter": "python",
   "pygments_lexer": "ipython3",
   "version": "3.9.12"
  },
  "orig_nbformat": 4,
  "vscode": {
   "interpreter": {
    "hash": "4f8615f1cda2a11f782ba972b5b6f6f9848cdfdc733b0cbafbbc9a871cc9c72c"
   }
  }
 },
 "nbformat": 4,
 "nbformat_minor": 2
}
