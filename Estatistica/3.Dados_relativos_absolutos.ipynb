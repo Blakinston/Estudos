{
 "cells": [
  {
   "cell_type": "markdown",
   "metadata": {},
   "source": [
    "Dados Absolutos: dados brutos,contagem ou medidas<br>\n",
    "Dados relativos: dados facil entendimento, razoes"
   ]
  },
  {
   "cell_type": "markdown",
   "metadata": {},
   "source": [
    "Tipos de dados Relativos<br>\n",
    "<br>\n",
    "<b>Porcentagens:</b> participacao em um todo<br>\n",
    "<b>indice:</b> razao entre duas grandezas na qual uma nao inclui na outra Ex: IMC: kg/altura^2, no caso do indice temo uma tabela de referencia<br>\n",
    "<b>Coeficientes:</b> razao entre variaveis de mesma especie, Ex: coef de acerto 8 acertos de 10 questoes 8/10 <br>\n",
    "<b>taxas:</b> coficientes multiplicados por 10"
   ]
  }
 ],
 "metadata": {
  "kernelspec": {
   "display_name": "Python 3.9.12 ('base')",
   "language": "python",
   "name": "python3"
  },
  "language_info": {
   "name": "python",
   "version": "3.9.12"
  },
  "orig_nbformat": 4,
  "vscode": {
   "interpreter": {
    "hash": "4f8615f1cda2a11f782ba972b5b6f6f9848cdfdc733b0cbafbbc9a871cc9c72c"
   }
  }
 },
 "nbformat": 4,
 "nbformat_minor": 2
}
