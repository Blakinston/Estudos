{
 "cells": [
  {
   "cell_type": "markdown",
   "metadata": {},
   "source": [
    "<h1>Assimetria</h1><br> \n",
    "medida na qual indica afastamento da simetria(normal) da distribuição"
   ]
  },
  {
   "cell_type": "markdown",
   "metadata": {},
   "source": [
    "assimetrica a direita(falta um pedaco na direita e os dados se concentra a esquerda) <br>\n",
    "media > mediana<br>\n",
    "mediana > moda , media e a maior medida <br>\n",
    "<br>\n",
    "assimetrica a esquerda(falta um pedaco na esquerda e os dados se concentra a direita)  <br>\n",
    "media   < mediana<br>\n",
    "mediana <  moda; moda e maior <br>\n"
   ]
  },
  {
   "cell_type": "markdown",
   "metadata": {},
   "source": [
    "Skewness = 0: Então normalmente distribuído.<br>\n",
    "Skewness > 0: Então, mais peso na cauda esquerda da distribuição(assimetrica direita).<br>\n",
    "Skewness < 0: Então, mais peso na cauda direita da distribuição(assimetrica esquerda)."
   ]
  },
  {
   "cell_type": "code",
   "execution_count": 7,
   "metadata": {},
   "outputs": [
    {
     "data": {
      "text/plain": [
       "0.0326966578855933"
      ]
     },
     "execution_count": 7,
     "metadata": {},
     "output_type": "execute_result"
    }
   ],
   "source": [
    "from scipy.stats import skew\n",
    "  \n",
    "# Creating a dataset\n",
    "dataset = [88, 85, 82, 97, 67, 77, 74, 86, \n",
    "           81, 95, 77, 88, 85, 76, 81]\n",
    "  \n",
    "skew(dataset,bias=False)"
   ]
  },
  {
   "cell_type": "markdown",
   "metadata": {},
   "source": [
    "curtose = 3, distribuição Normal.<br>\n",
    "curtose > 3, é chamada de leptocúrtica:  Distribuição com poucos desvios e dados muito proximos(achatado).<br>\n",
    "curtose < 3 é chamada placurtica: Distribuição com dados esparcos(afilado)..<br>\n"
   ]
  },
  {
   "cell_type": "code",
   "execution_count": 13,
   "metadata": {},
   "outputs": [
    {
     "data": {
      "text/plain": [
       "2.707288016257653"
      ]
     },
     "execution_count": 13,
     "metadata": {},
     "output_type": "execute_result"
    }
   ],
   "source": [
    "from scipy.stats import kurtosis\n",
    "  \n",
    "# Creating a dataset\n",
    "dataset = [88, 85, 82, 97, 67, 77, 74, 86,\n",
    "           81, 95, 77, 88, 85, 76, 81]\n",
    "  \n",
    "  \n",
    "kurtosis(dataset,fisher = False)"
   ]
  },
  {
   "cell_type": "code",
   "execution_count": 18,
   "metadata": {},
   "outputs": [
    {
     "data": {
      "text/plain": [
       "<AxesSubplot:ylabel='Count'>"
      ]
     },
     "execution_count": 18,
     "metadata": {},
     "output_type": "execute_result"
    },
    {
     "data": {
      "image/png": "[encoded data removed]",
      "text/plain": [
       "<Figure size 432x288 with 1 Axes>"
      ]
     },
     "metadata": {
      "needs_background": "light"
     },
     "output_type": "display_data"
    }
   ],
   "source": [
    "import seaborn as sn \n",
    "\n",
    "sn.histplot(dataset,bins=15)"
   ]
  }
 ],
 "metadata": {
  "kernelspec": {
   "display_name": "Python 3.9.12 ('base')",
   "language": "python",
   "name": "python3"
  },
  "language_info": {
   "codemirror_mode": {
    "name": "ipython",
    "version": 3
   },
   "file_extension": ".py",
   "mimetype": "text/x-python",
   "name": "python",
   "nbconvert_exporter": "python",
   "pygments_lexer": "ipython3",
   "version": "3.9.12"
  },
  "orig_nbformat": 4,
  "vscode": {
   "interpreter": {
    "hash": "4f8615f1cda2a11f782ba972b5b6f6f9848cdfdc733b0cbafbbc9a871cc9c72c"
   }
  }
 },
 "nbformat": 4,
 "nbformat_minor": 2
}
